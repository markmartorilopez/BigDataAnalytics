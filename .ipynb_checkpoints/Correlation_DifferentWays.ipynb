{
 "cells": [
  {
   "cell_type": "markdown",
   "id": "5e178e1b",
   "metadata": {},
   "source": [
    "# Big Data Analytics - Project - 2021"
   ]
  },
  {
   "cell_type": "markdown",
   "id": "3b295992",
   "metadata": {},
   "source": [
    "### Authors: Kirill ??, Lilith Feer, Luca Guenin, Mark Martori Lopez, Remo ??\n",
    "### Matrikel-Nr.: ???, 16720799, 16609521, 19759869, ???"
   ]
  },
  {
   "cell_type": "markdown",
   "id": "de4f2543",
   "metadata": {},
   "source": [
    "## Goal\n",
    "\n",
    "### Goal Description"
   ]
  },
  {
   "cell_type": "markdown",
   "id": "4fa0bed8",
   "metadata": {},
   "source": [
    "# "
   ]
  },
  {
   "cell_type": "markdown",
   "id": "5bd5a7e7",
   "metadata": {},
   "source": [
    "## Packages & Libraries"
   ]
  },
  {
   "cell_type": "code",
   "execution_count": null,
   "id": "6613d5d9",
   "metadata": {},
   "outputs": [],
   "source": [
    "#install.packages(\"BiocManager\")\n",
    "#BiocManager::install(\"Rgraphviz\")\n",
    "\n",
    "#install.packages('CePa', .libPaths(), repos='http://cran.us.r-project.org')\n",
    "# or\n",
    "#BiocManager::install(\"cmapR\")\n",
    "\n",
    "\n",
    "#install.packages(\"data.table\")\n",
    "#install.packages(\"dplyr\")\n",
    "install.packages(\"Hmisc\")\n",
    "#BiocManager::install(\"outliers\")"
   ]
  },
  {
   "cell_type": "code",
   "execution_count": null,
   "id": "6bd0efcb",
   "metadata": {},
   "outputs": [],
   "source": [
    "library(ggplot2)\n",
    "#library(CePa)\n",
    "library(data.table)\n",
    "library(dplyr) \n",
    "library(tidyr)\n",
    "library(cmapR)\n",
    "library(outliers)\n",
    "library(Hmisc)"
   ]
  },
  {
   "cell_type": "markdown",
   "id": "034eb98a",
   "metadata": {},
   "source": [
    "## Dataset\n",
    "### Description:\n",
    "#### Pancreatic cancer arises from the abnormal and uncontrolled growth of cells in the tissues of the pancreas. Pancreatic adenocarcinoma (PAAD) is the most common type of pancreatic cancer, accounting for approximately 85% of all types of pancreatic cancer. This cancer is the twelfth most common cancer and the seventh leading cause of cancer-related death. [01]\n",
    "\n",
    "#### The dataset contains normalized RNA Sequencing reads for pancreatic cancer tumors. The measurement consists of ~20,000 genes for 185 pancreatic cancer tumors. The file format is GCT , a tab-delimited file used for sharing gene expression data and metadata (details for each sample) for samples.\n",
    "\n",
    "### Link:\n",
    "### https://www.kaggle.com/abhiparashar/cancer-prediction?select=PAAD.gct\n",
    "\n",
    "### Load:"
   ]
  },
  {
   "cell_type": "code",
   "execution_count": null,
   "id": "d3026a1a",
   "metadata": {},
   "outputs": [],
   "source": [
    "# 1 -  Read gct:\n",
    "# original_dataset <- read.gct(\"Data/PAAD.gct\")\n",
    "\n",
    "# 2 - Read in data.table format:                    # Setting Participant ID as column Name -> skip = 3\n",
    "original_dataset <- fread(\"Data/PAAD.gct\", skip = 3, quote = \"\", header = TRUE, sep = \"\\t\")"
   ]
  },
  {
   "cell_type": "code",
   "execution_count": null,
   "id": "5cd6178b",
   "metadata": {},
   "outputs": [],
   "source": [
    "# Dimensions of the dataset\n",
    "dim(original_dataset)\n",
    "\n",
    "# Overview of types of Data\n",
    "#str(original_dataset)\n",
    "\n",
    "# Patients IDs\n",
    "patients_IDs <- colnames(original_dataset)\n",
    "\n",
    "# Features\n",
    "rownames <- original_dataset[,1]\n",
    "\n",
    "# Attributes\n",
    "#attributes(original_dataset)\n",
    "\n",
    "head(original_dataset,20)"
   ]
  },
  {
   "cell_type": "markdown",
   "id": "90e967a9",
   "metadata": {},
   "source": [
    "### Separate the two data sets (meta data and expression data)"
   ]
  },
  {
   "cell_type": "code",
   "execution_count": null,
   "id": "0a88add2",
   "metadata": {},
   "outputs": [],
   "source": [
    "Expression_data <- original_dataset[124:length(original_dataset$participant_id),]\n",
    "Patient_data <- original_dataset[1:123,]\n",
    "Patient_data\n",
    "Expression_data"
   ]
  },
  {
   "cell_type": "markdown",
   "id": "daa4edf0",
   "metadata": {},
   "source": [
    "### Transpose the data sets"
   ]
  },
  {
   "cell_type": "code",
   "execution_count": null,
   "id": "3b3d678f",
   "metadata": {},
   "outputs": [],
   "source": [
    "transposefunction <- function(dataset){\n",
    "    rowname <- dataset$participant_id\n",
    "    colname <- 1:length(original_dataset[1,])\n",
    "    transposed_dataset <- transpose(dataset)\n",
    "    rownames(transposed_dataset) <- colname\n",
    "    colnames(transposed_dataset) <- rowname\n",
    "    transposed_dataset <- transposed_dataset[2:nrow(transposed_dataset),]\n",
    "    return(transposed_dataset)\n",
    "}\n",
    "\n",
    "t_expression_data <- transposefunction(Expression_data)\n",
    "t_patient_data <- transposefunction(Patient_data)\n",
    "\n",
    "dim(t_expression_data)\n",
    "dim(t_patient_data)"
   ]
  },
  {
   "cell_type": "code",
   "execution_count": null,
   "id": "604e0913",
   "metadata": {},
   "outputs": [],
   "source": [
    "# convert the whole data set into floats\n",
    "t_expression_data[] <- lapply(t_expression_data, function(x) {as.numeric(as.character(x))})\n",
    "\n",
    "dimensions <- dim(t_expression_data)\n",
    "dimensions[1]*dimensions[2]\n",
    "\n",
    "table(is.na(t_expression_data))\n",
    "\n",
    "summary(is.na(t_expression_data))\n",
    "## there are 134'954 missing values (from 3'379'095 total) in the expression data set"
   ]
  },
  {
   "cell_type": "code",
   "execution_count": null,
   "id": "923df922",
   "metadata": {},
   "outputs": [],
   "source": [
    "table(is.na(t_patient_data))\n",
    "\n",
    "dimensions <- dim(t_patient_data)\n",
    "dimensions[1]*dimensions[2]\n",
    "\n",
    "summary(is.na(t_patient_data))\n",
    "## 9654 of 22632 are missing values --> but some have a meaning (e.g. when patients haven't died days_to_death is NA)"
   ]
  },
  {
   "cell_type": "code",
   "execution_count": null,
   "id": "137af6ba",
   "metadata": {},
   "outputs": [],
   "source": [
    "head(t_patient_data,20)"
   ]
  },
  {
   "cell_type": "code",
   "execution_count": null,
   "id": "c05fb9d5",
   "metadata": {},
   "outputs": [],
   "source": [
    "# turn the whole dataset into floats\n",
    "head(t_expression_data,20)"
   ]
  },
  {
   "cell_type": "markdown",
   "id": "7b30d85c",
   "metadata": {},
   "source": [
    "### Histograms and check for outliers using grubbs test"
   ]
  },
  {
   "cell_type": "code",
   "execution_count": null,
   "id": "530528e6",
   "metadata": {},
   "outputs": [],
   "source": [
    "outlier_fun <- function(df){\n",
    "  for (columnindex in 1:ncol(df)){\n",
    "      hist(data.matrix(df[,..columnindex]))\n",
    "      print(grubbs.test(data.matrix(df[,..columnindex])))\n",
    "  }\n",
    "}\n",
    "\n",
    "outlier_fun(t_expression_data)\n",
    "# if the p-value is less than the chosen significance threshold (generally α = 0.05) then the \n",
    "# null hypothesis is rejected and we will conclude that the lowest/highest value is an outlier."
   ]
  },
  {
   "cell_type": "code",
   "execution_count": null,
   "id": "9947de92",
   "metadata": {},
   "outputs": [],
   "source": []
  },
  {
   "cell_type": "code",
   "execution_count": null,
   "id": "4844f2d4",
   "metadata": {},
   "outputs": [],
   "source": []
  },
  {
   "cell_type": "markdown",
   "id": "58eafa90",
   "metadata": {},
   "source": [
    "## Patient meta data histograms "
   ]
  },
  {
   "cell_type": "markdown",
   "id": "6d9648af",
   "metadata": {},
   "source": [
    "### Numeric columns"
   ]
  },
  {
   "cell_type": "code",
   "execution_count": null,
   "id": "39659605",
   "metadata": {},
   "outputs": [],
   "source": [
    "t_patient_data <- t_patient_data %>%\n",
    "    mutate_all(type.convert) %>%\n",
    "    mutate_if(is.factor, as.character)\n",
    "\n",
    "# only numeric values\n",
    "df_patient_num <-  t_patient_data %>% select_if(is.numeric)\n",
    "\n",
    "sprintf(\"%d numeric columns\",ncol(df_patient_num))"
   ]
  },
  {
   "cell_type": "code",
   "execution_count": null,
   "id": "98cb3794",
   "metadata": {},
   "outputs": [],
   "source": [
    "ggplot(gather(df_patient_num[,1:9], cols, value), aes(x = value)) + \n",
    "       geom_histogram(binwidth = 1) + facet_wrap(.~cols, scales = \"free\") "
   ]
  },
  {
   "cell_type": "code",
   "execution_count": null,
   "id": "d45b0a44",
   "metadata": {},
   "outputs": [],
   "source": [
    "ggplot(gather(df_patient_num[,10:18], cols, value), aes(x = value)) + \n",
    "       geom_histogram(binwidth = 1) + facet_wrap(.~cols, scales = \"free\") "
   ]
  },
  {
   "cell_type": "code",
   "execution_count": null,
   "id": "f86941ab",
   "metadata": {},
   "outputs": [],
   "source": [
    "ggplot(gather(df_patient_num[,19:28], cols, value), aes(x = value)) + \n",
    "       geom_histogram(binwidth = 1) + facet_wrap(.~cols, scales = \"free\") "
   ]
  },
  {
   "cell_type": "markdown",
   "id": "cd4e7727",
   "metadata": {},
   "source": [
    "## Correlations - Pearson - Patients Data"
   ]
  },
  {
   "cell_type": "code",
   "execution_count": null,
   "id": "1582e862",
   "metadata": {},
   "outputs": [],
   "source": [
    "# All Character Fields as Factors? \n",
    "\n",
    "t_patient_data <- t_patient_data %>%\n",
    "    mutate_all(type.convert) %>%\n",
    "    mutate_if(is.character, as.factor)"
   ]
  },
  {
   "cell_type": "code",
   "execution_count": null,
   "id": "469b836a",
   "metadata": {},
   "outputs": [],
   "source": [
    "# WAY 1:\n",
    "\n",
    "# Patients Features Correlation\n",
    "corrPatient <- round(cor(df_patient_num, use='pairwise', method = 'pearson'),2)\n",
    "\n",
    "\n",
    "# Avoid columns with All raws == NA ??????\n",
    "corrPatientnoNA <- corrPatient[,colSums(is.na(corrPatient))<nrow(corrPatient)]\n",
    "\n",
    "\n",
    "# Setting all NA to 0 only for correlation\n",
    "corrPatient[is.na(corrPatient)] <- 0\n"
   ]
  },
  {
   "cell_type": "code",
   "execution_count": null,
   "id": "a64717ad",
   "metadata": {},
   "outputs": [],
   "source": [
    "head(corrPatient,10) # 0 Values are NA values, 0.00 Values are 0.00."
   ]
  },
  {
   "cell_type": "code",
   "execution_count": null,
   "id": "1e20b8da",
   "metadata": {},
   "outputs": [],
   "source": [
    "# WAY 2: Hmisc\n",
    "install.packages(\"Hmisc\")\n",
    "library(Hmisc)\n",
    "\n",
    "\n",
    "corrPatient2 <- round(rcorr(as.matrix(df_patient_num)),2) # It already is numeric -rcorr uses 'pairwise' by default\n"
   ]
  },
  {
   "cell_type": "code",
   "execution_count": null,
   "id": "e2b7f02a",
   "metadata": {},
   "outputs": [],
   "source": [
    "# WAY 2\n",
    "\n",
    "# This function returns a Table with Rownames, Colnames, Correlation Coefficient, p-value\n",
    "flattenCorrMatrix <- function(cormat, pmat) {\n",
    "  ut <- upper.tri(cormat)\n",
    "  data.frame(\n",
    "    row = rownames(cormat)[row(cormat)[ut]],\n",
    "    column = rownames(cormat)[col(cormat)[ut]],\n",
    "    cor  =(cormat)[ut],\n",
    "    p = pmat[ut]\n",
    "    )\n",
    "}"
   ]
  },
  {
   "cell_type": "markdown",
   "id": "d790abd9",
   "metadata": {},
   "source": [
    "### Table of correlations"
   ]
  },
  {
   "cell_type": "code",
   "execution_count": null,
   "id": "0e69708a",
   "metadata": {},
   "outputs": [],
   "source": [
    "# WAY 2\n",
    "\n",
    "# Visualize Correlation - Table\n",
    "\n",
    "flattenCorrMatrix(corrPatient2$r, corrPatient2$P)"
   ]
  },
  {
   "cell_type": "markdown",
   "id": "fc6223b5",
   "metadata": {},
   "source": [
    "### Plot"
   ]
  },
  {
   "cell_type": "code",
   "execution_count": null,
   "id": "5ad7ec03",
   "metadata": {},
   "outputs": [],
   "source": [
    "# WAY 1:\n",
    "\n",
    "heatmap(corrPatient)\n"
   ]
  },
  {
   "cell_type": "code",
   "execution_count": null,
   "id": "d668c174",
   "metadata": {},
   "outputs": [],
   "source": [
    "# PLOT WAY 2:\n",
    "install.packages(\"corrplot\")\n",
    "library(corrplot)\n",
    "\n",
    "corrplot(corrPatient2, type = \"upper\", order = \"hclust\", \n",
    "         tl.col = \"black\", tl.srt = 45)"
   ]
  },
  {
   "cell_type": "code",
   "execution_count": null,
   "id": "2b4d94bb",
   "metadata": {},
   "outputs": [],
   "source": [
    "# PLOT WAY 3:\n",
    "\n",
    "#install.packages(\"PerformanceAnalytics\")\n",
    "library(PerformanceAnalytics)\n",
    "chart.Correlation(corrPatient[1:5,1:5], histogram=TRUE, pch=19)\n"
   ]
  },
  {
   "cell_type": "code",
   "execution_count": null,
   "id": "08f03ef0",
   "metadata": {},
   "outputs": [],
   "source": []
  },
  {
   "cell_type": "code",
   "execution_count": null,
   "id": "872dc648",
   "metadata": {},
   "outputs": [],
   "source": []
  },
  {
   "cell_type": "markdown",
   "id": "f0ddf8c9",
   "metadata": {},
   "source": [
    "## References"
   ]
  },
  {
   "cell_type": "markdown",
   "id": "9d2e18a8",
   "metadata": {},
   "source": [
    "#### 01 - Baek, B., Lee, H. Prediction of survival and recurrence in patients with pancreatic cancer by integrating multi-omics data. Sci Rep 10, 18951 (2020). https://doi.org/10.1038/s41598-020-76025-1"
   ]
  }
 ],
 "metadata": {
  "kernelspec": {
   "display_name": "R",
   "language": "R",
   "name": "ir"
  },
  "language_info": {
   "codemirror_mode": "r",
   "file_extension": ".r",
   "mimetype": "text/x-r-source",
   "name": "R",
   "pygments_lexer": "r",
   "version": "3.6.1"
  },
  "metadata": {
   "interpreter": {
    "hash": "876d19a715e85b8ef53a5ec98972dca0ebbcb13bdd85ab57f8336ebb1c3be716"
   }
  }
 },
 "nbformat": 4,
 "nbformat_minor": 5
}
