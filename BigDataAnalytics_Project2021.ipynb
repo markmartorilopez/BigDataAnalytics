{
 "cells": [
  {
   "cell_type": "markdown",
   "metadata": {},
   "source": [
    "# Big Data Analytics - Project - 2021"
   ]
  },
  {
   "cell_type": "markdown",
   "metadata": {},
   "source": [
    "### Authors: Kirill Holtmann, Lilith Feer, Luca ??, Mark ??, Remo ??\n",
    "### Matrikel-Nr.: 16722423, 16720799, ??, ???, ???"
   ]
  },
  {
   "cell_type": "markdown",
   "metadata": {},
   "source": [
    "## Goal\n",
    "\n",
    "### Goal Description"
   ]
  },
  {
   "cell_type": "markdown",
   "metadata": {},
   "source": [
    "# "
   ]
  },
  {
   "cell_type": "markdown",
   "metadata": {},
   "source": [
    "## Packages & Libraries"
   ]
  },
  {
   "cell_type": "code",
   "execution_count": 127,
   "metadata": {},
   "outputs": [
    {
     "name": "stderr",
     "output_type": "stream",
     "text": [
      "'getOption(\"repos\")' replaces Bioconductor standard repositories, see\n",
      "'?repositories' for details\n",
      "\n",
      "replacement repositories:\n",
      "    CRAN: https://cran.r-project.org\n",
      "\n",
      "\n",
      "Bioconductor version 3.12 (BiocManager 1.30.15), R 4.0.4 (2021-02-15)\n",
      "\n",
      "Warning message:\n",
      "\"package(s) not installed when version(s) same as current; use `force = TRUE` to\n",
      "  re-install: 'outliers'\"\n",
      "Installation paths not writeable, unable to update packages\n",
      "  path: C:/Program Files/R/R-4.0.4/library\n",
      "  packages:\n",
      "    boot, class, cluster, KernSmooth, lattice, MASS, Matrix, mgcv, nnet,\n",
      "    spatial, survival\n",
      "\n",
      "Old packages: 'colorspace', 'curl', 'dplyr', 'ellipsis', 'haven', 'installr',\n",
      "  'openssl', 'processx', 'raster', 'rlang', 'rmarkdown', 'statmod', 'stringi',\n",
      "  'tibble', 'tidyselect', 'vctrs', 'viridis', 'xfun'\n",
      "\n"
     ]
    }
   ],
   "source": [
    "#install.packages(\"BiocManager\")\n",
    "#BiocManager::install(\"Rgraphviz\")\n",
    "\n",
    "#install.packages(\"data.table\")\n",
    "#install.packages(\"dplyr\")\n",
    "#BiocManager::install(\"outliers\")"
   ]
  },
  {
   "cell_type": "code",
   "execution_count": 1,
   "metadata": {},
   "outputs": [
    {
     "name": "stderr",
     "output_type": "stream",
     "text": [
      "\n",
      "Attaching package: ‘dplyr’\n",
      "\n",
      "\n",
      "The following objects are masked from ‘package:data.table’:\n",
      "\n",
      "    between, first, last\n",
      "\n",
      "\n",
      "The following objects are masked from ‘package:stats’:\n",
      "\n",
      "    filter, lag\n",
      "\n",
      "\n",
      "The following objects are masked from ‘package:base’:\n",
      "\n",
      "    intersect, setdiff, setequal, union\n",
      "\n",
      "\n"
     ]
    }
   ],
   "source": [
    "library(ggplot2)\n",
    "library(data.table)\n",
    "library(\"dplyr\") \n",
    "library(tidyr)\n",
    "#library(outliers)"
   ]
  },
  {
   "cell_type": "markdown",
   "metadata": {},
   "source": [
    "## Dataset\n",
    "### Description:\n",
    "#### Pancreatic cancer arises from the abnormal and uncontrolled growth of cells in the tissues of the pancreas. Pancreatic adenocarcinoma (PAAD) is the most common type of pancreatic cancer, accounting for approximately 85% of all types of pancreatic cancer. This cancer is the twelfth most common cancer and the seventh leading cause of cancer-related death. [01]\n",
    "\n",
    "#### The dataset contains normalized RNA Sequencing reads for pancreatic cancer tumors. The measurement consists of ~20,000 genes for 185 pancreatic cancer tumors. The file format is GCT , a tab-delimited file used for sharing gene expression data and metadata (details for each sample) for samples.\n",
    "\n",
    "### Link:\n",
    "### https://www.kaggle.com/abhiparashar/cancer-prediction?select=PAAD.gct\n",
    "\n",
    "### Load:"
   ]
  },
  {
   "cell_type": "code",
   "execution_count": 2,
   "metadata": {},
   "outputs": [],
   "source": [
    "# 1 -  Read gct:\n",
    "# original_dataset <- read.gct(\"Data/PAAD.gct\")\n",
    "\n",
    "# 2 - Read in data.table format:                    # Setting Participant ID as column Name -> skip = 3\n",
    "original_dataset <- fread(\"Data/PAAD.gct\", skip = 3, quote = \"\", header = TRUE, sep = \"\\t\")"
   ]
  },
  {
   "cell_type": "code",
   "execution_count": 3,
   "metadata": {},
   "outputs": [
    {
     "name": "stderr",
     "output_type": "stream",
     "text": [
      "The dimensions of the dataset are: Rows = 18588 and Columns = 184\n",
      "\n"
     ]
    },
    {
     "data": {
      "text/html": [
       "<table>\n",
       "<caption>A data.table: 20 × 184</caption>\n",
       "<thead>\n",
       "\t<tr><th scope=col>participant_id</th><th scope=col>aab1</th><th scope=col>aab4</th><th scope=col>aab6</th><th scope=col>aab8</th><th scope=col>aab9</th><th scope=col>aaba</th><th scope=col>aabe</th><th scope=col>aabf</th><th scope=col>aabh</th><th scope=col>⋯</th><th scope=col>aauh</th><th scope=col>aaui</th><th scope=col>aaul</th><th scope=col>a8t3</th><th scope=col>a8t5</th><th scope=col>a89d</th><th scope=col>a89d.1</th><th scope=col>a8sy</th><th scope=col>a8lh</th><th scope=col>aapl</th></tr>\n",
       "\t<tr><th scope=col>&lt;chr&gt;</th><th scope=col>&lt;chr&gt;</th><th scope=col>&lt;chr&gt;</th><th scope=col>&lt;chr&gt;</th><th scope=col>&lt;chr&gt;</th><th scope=col>&lt;chr&gt;</th><th scope=col>&lt;chr&gt;</th><th scope=col>&lt;chr&gt;</th><th scope=col>&lt;chr&gt;</th><th scope=col>&lt;chr&gt;</th><th scope=col>⋯</th><th scope=col>&lt;chr&gt;</th><th scope=col>&lt;chr&gt;</th><th scope=col>&lt;chr&gt;</th><th scope=col>&lt;chr&gt;</th><th scope=col>&lt;chr&gt;</th><th scope=col>&lt;chr&gt;</th><th scope=col>&lt;chr&gt;</th><th scope=col>&lt;chr&gt;</th><th scope=col>&lt;chr&gt;</th><th scope=col>&lt;chr&gt;</th></tr>\n",
       "</thead>\n",
       "<tbody>\n",
       "\t<tr><td>sample_type                          </td><td>Primary solid Tumor                 </td><td>Primary solid Tumor                 </td><td>Primary solid Tumor                 </td><td>Primary solid Tumor                 </td><td>Primary solid Tumor                 </td><td>Primary solid Tumor                 </td><td>Primary solid Tumor                 </td><td>Primary solid Tumor                 </td><td>Primary solid Tumor                 </td><td>⋯</td><td>Primary solid Tumor                 </td><td>Primary solid Tumor                 </td><td>Primary solid Tumor                 </td><td>Primary solid Tumor                 </td><td>Primary solid Tumor                 </td><td>Solid Tissue Normal                 </td><td>Primary solid Tumor                 </td><td>Primary solid Tumor                 </td><td>Primary solid Tumor                 </td><td>Primary solid Tumor                 </td></tr>\n",
       "\t<tr><td>mRNAseq_cluster                      </td><td>1                                   </td><td>2                                   </td><td>3                                   </td><td>1                                   </td><td>4                                   </td><td>3                                   </td><td>3                                   </td><td>2                                   </td><td>2                                   </td><td>⋯</td><td>2                                   </td><td>5                                   </td><td>3                                   </td><td>4                                   </td><td>5                                   </td><td>                                    </td><td>2                                   </td><td>3                                   </td><td>1                                   </td><td>5                                   </td></tr>\n",
       "\t<tr><td>bcr_patient_barcode                  </td><td>tcga-2j-aab1                        </td><td>tcga-2j-aab4                        </td><td>tcga-2j-aab6                        </td><td>tcga-2j-aab8                        </td><td>tcga-2j-aab9                        </td><td>tcga-2j-aaba                        </td><td>tcga-2j-aabe                        </td><td>tcga-2j-aabf                        </td><td>tcga-2j-aabh                        </td><td>⋯</td><td>tcga-xd-aauh                        </td><td>tcga-xd-aaui                        </td><td>tcga-xd-aaul                        </td><td>tcga-xn-a8t3                        </td><td>tcga-xn-a8t5                        </td><td>tcga-yb-a89d                        </td><td>tcga-yb-a89d                        </td><td>tcga-yh-a8sy                        </td><td>tcga-yy-a8lh                        </td><td>tcga-z5-aapl                        </td></tr>\n",
       "\t<tr><td>bcr_patient_uuid                     </td><td>75119d1a-93e5-4ae7-9d60-69ee929a0772</td><td>33833131-1482-42d5-9cf5-01cade540234</td><td>70797499-16e6-48cc-8ae4-1e692713dad3</td><td>2e8f90f4-aed3-43b0-985c-dfdc2581f24f</td><td>a5748656-5330-417a-8938-01f69ddb3576</td><td>e3a19e63-bae5-498b-9687-41194aa5728d</td><td>58c1c391-5ea3-4432-bb1e-e7e1974954bc</td><td>886d6116-d496-444f-9b7b-7449dad31055</td><td>c53328b4-0930-4e6a-a648-283b5565295e</td><td>⋯</td><td>b46b5a4c-59fc-4769-b05a-d15f9aaa753a</td><td>9a2db69e-d429-45d4-89ca-a2c4e0cfc116</td><td>597a5a56-244b-4218-a55d-5d08217ea28c</td><td>dd7bcdd8-1660-4dab-9860-9d136c4cee77</td><td>382b279f-87e1-4dbc-a2ca-c1dfde1cf254</td><td>b84b58c7-95b8-4162-8e61-414f8fe422c6</td><td>b84b58c7-95b8-4162-8e61-414f8fe422c6</td><td>503d7e36-df78-428d-9971-09ff707645c2</td><td>ede2e8a7-465e-4725-880d-519899aba0c0</td><td>6a4e10b6-e6c4-4210-ae4d-0d8e8d0cb3ec</td></tr>\n",
       "\t<tr><td>vital_status                         </td><td>dead                                </td><td>alive                               </td><td>dead                                </td><td>alive                               </td><td>dead                                </td><td>dead                                </td><td>alive                               </td><td>dead                                </td><td>alive                               </td><td>⋯</td><td>alive                               </td><td>dead                                </td><td>alive                               </td><td>alive                               </td><td>alive                               </td><td>alive                               </td><td>alive                               </td><td>alive                               </td><td>alive                               </td><td>alive                               </td></tr>\n",
       "\t<tr><td>days_to_death                        </td><td>66                                  </td><td>NA                                  </td><td>293                                 </td><td>NA                                  </td><td>627                                 </td><td>607                                 </td><td>NA                                  </td><td>691                                 </td><td>NA                                  </td><td>⋯</td><td>NA                                  </td><td>366                                 </td><td>NA                                  </td><td>NA                                  </td><td>NA                                  </td><td>NA                                  </td><td>NA                                  </td><td>NA                                  </td><td>NA                                  </td><td>NA                                  </td></tr>\n",
       "\t<tr><td>days_to_last_followup                </td><td>NA                                  </td><td>729                                 </td><td>NA                                  </td><td>80                                  </td><td>NA                                  </td><td>NA                                  </td><td>676                                 </td><td>NA                                  </td><td>1287                                </td><td>⋯</td><td>395                                 </td><td>NA                                  </td><td>498                                 </td><td>951                                 </td><td>720                                 </td><td>350                                 </td><td>350                                 </td><td>388                                 </td><td>2016                                </td><td>467                                 </td></tr>\n",
       "\t<tr><td>additional_studies                   </td><td>NA                                  </td><td>NA                                  </td><td>NA                                  </td><td>NA                                  </td><td>NA                                  </td><td>NA                                  </td><td>NA                                  </td><td>NA                                  </td><td>NA                                  </td><td>⋯</td><td>NA                                  </td><td>NA                                  </td><td>NA                                  </td><td>NA                                  </td><td>NA                                  </td><td>NA                                  </td><td>NA                                  </td><td>NA                                  </td><td>NA                                  </td><td>NA                                  </td></tr>\n",
       "\t<tr><td>adenocarcinoma_invasion              </td><td>yes                                 </td><td>yes                                 </td><td>yes                                 </td><td>yes                                 </td><td>yes                                 </td><td>yes                                 </td><td>yes                                 </td><td>yes                                 </td><td>yes                                 </td><td>⋯</td><td>yes                                 </td><td>yes                                 </td><td>yes                                 </td><td>yes                                 </td><td>yes                                 </td><td>yes                                 </td><td>yes                                 </td><td>yes                                 </td><td>yes                                 </td><td>yes                                 </td></tr>\n",
       "\t<tr><td>age_at_initial_pathologic_diagnosis  </td><td>65                                  </td><td>48                                  </td><td>75                                  </td><td>71                                  </td><td>70                                  </td><td>55                                  </td><td>73                                  </td><td>73                                  </td><td>61                                  </td><td>⋯</td><td>57                                  </td><td>50                                  </td><td>56                                  </td><td>67                                  </td><td>53                                  </td><td>59                                  </td><td>59                                  </td><td>73                                  </td><td>61                                  </td><td>74                                  </td></tr>\n",
       "\t<tr><td>alcohol_history_documented           </td><td>yes                                 </td><td>no                                  </td><td>no                                  </td><td>no                                  </td><td>yes                                 </td><td>no                                  </td><td>yes                                 </td><td>yes                                 </td><td>no                                  </td><td>⋯</td><td>yes                                 </td><td>yes                                 </td><td>yes                                 </td><td>no                                  </td><td>no                                  </td><td>no                                  </td><td>no                                  </td><td>yes                                 </td><td>yes                                 </td><td>NA                                  </td></tr>\n",
       "\t<tr><td>alcoholic_exposure_category          </td><td>weekly drinker                      </td><td>NA                                  </td><td>NA                                  </td><td>NA                                  </td><td>weekly drinker                      </td><td>NA                                  </td><td>weekly drinker                      </td><td>weekly drinker                      </td><td>NA                                  </td><td>⋯</td><td>daily drinker                       </td><td>occasional drinker                  </td><td>none                                </td><td>NA                                  </td><td>NA                                  </td><td>NA                                  </td><td>NA                                  </td><td>weekly drinker                      </td><td>occasional drinker                  </td><td>NA                                  </td></tr>\n",
       "\t<tr><td>amount_of_alcohol_consumption_per_day</td><td>1                                   </td><td>NA                                  </td><td>NA                                  </td><td>NA                                  </td><td>1                                   </td><td>NA                                  </td><td>1                                   </td><td>1                                   </td><td>NA                                  </td><td>⋯</td><td>NA                                  </td><td>NA                                  </td><td>NA                                  </td><td>NA                                  </td><td>NA                                  </td><td>NA                                  </td><td>NA                                  </td><td>NA                                  </td><td>NA                                  </td><td>NA                                  </td></tr>\n",
       "\t<tr><td>anatomic_neoplasm_subdivision        </td><td>head of pancreas                    </td><td>other (please specify)              </td><td>body of pancreas                    </td><td>head of pancreas                    </td><td>head of pancreas                    </td><td>head of pancreas                    </td><td>body of pancreas                    </td><td>head of pancreas                    </td><td>body of pancreas                    </td><td>⋯</td><td>head of pancreas                    </td><td>head of pancreas                    </td><td>head of pancreas                    </td><td>head of pancreas                    </td><td>head of pancreas                    </td><td>head of pancreas                    </td><td>head of pancreas                    </td><td>head of pancreas                    </td><td>tail of pancreas                    </td><td>other (please specify)              </td></tr>\n",
       "\t<tr><td><span style=white-space:pre-wrap>anatomic_neoplasm_subdivision_other  </span></td><td><span style=white-space:pre-wrap>NA                                  </span></td><td><span style=white-space:pre-wrap>body &amp; tail of pancreas             </span></td><td><span style=white-space:pre-wrap>NA                                  </span></td><td><span style=white-space:pre-wrap>NA                                  </span></td><td><span style=white-space:pre-wrap>NA                                  </span></td><td><span style=white-space:pre-wrap>NA                                  </span></td><td><span style=white-space:pre-wrap>NA                                  </span></td><td><span style=white-space:pre-wrap>NA                                  </span></td><td><span style=white-space:pre-wrap>NA                                  </span></td><td>⋯</td><td><span style=white-space:pre-wrap>NA                                  </span></td><td><span style=white-space:pre-wrap>NA                                  </span></td><td><span style=white-space:pre-wrap>NA                                  </span></td><td><span style=white-space:pre-wrap>NA                                  </span></td><td><span style=white-space:pre-wrap>NA                                  </span></td><td><span style=white-space:pre-wrap>NA                                  </span></td><td><span style=white-space:pre-wrap>NA                                  </span></td><td><span style=white-space:pre-wrap>NA                                  </span></td><td><span style=white-space:pre-wrap>NA                                  </span></td><td><span style=white-space:pre-wrap>body and tail                       </span></td></tr>\n",
       "\t<tr><td>b_symptoms                           </td><td>NA                                  </td><td>NA                                  </td><td>NA                                  </td><td>NA                                  </td><td>NA                                  </td><td>NA                                  </td><td>NA                                  </td><td>NA                                  </td><td>NA                                  </td><td>⋯</td><td>NA                                  </td><td>NA                                  </td><td>NA                                  </td><td>NA                                  </td><td>NA                                  </td><td>NA                                  </td><td>NA                                  </td><td>NA                                  </td><td>NA                                  </td><td>NA                                  </td></tr>\n",
       "\t<tr><td>bcr                                  </td><td>nationwide children's hospital      </td><td>nationwide children's hospital      </td><td>nationwide children's hospital      </td><td>nationwide children's hospital      </td><td>nationwide children's hospital      </td><td>nationwide children's hospital      </td><td>nationwide children's hospital      </td><td>nationwide children's hospital      </td><td>nationwide children's hospital      </td><td>⋯</td><td>nationwide children's hospital      </td><td>nationwide children's hospital      </td><td>nationwide children's hospital      </td><td>nationwide children's hospital      </td><td>nationwide children's hospital      </td><td>nationwide children's hospital      </td><td>nationwide children's hospital      </td><td>nationwide children's hospital      </td><td>nationwide children's hospital      </td><td>nationwide children's hospital      </td></tr>\n",
       "\t<tr><td>bcr_aliquot_uuid                     </td><td>d3f960b2-c69d-4b64-a30f-72f4fa7bb2f9</td><td>9daae9d7-747e-44e0-a8f8-3c3f9e3f03f3</td><td>c850368e-6e95-4879-8245-205ddeec6fbd</td><td>5749429c-5ac9-40de-b44e-3b795520ec07</td><td>be56b07b-cd57-46a0-baa1-e20169d88468</td><td>4dddd9de-1aed-43bd-853e-f1d0a845680e</td><td>be93c69f-5cc3-4289-9cb3-79024701026f</td><td>d4beb2ee-42e9-417d-9ba6-5b9b16c02bae</td><td>bd0474cb-d20c-4c4f-bb01-136e2c8fea82</td><td>⋯</td><td>5b6016d8-9650-4fd1-b106-6205343129b4</td><td>e5f200b4-1f48-4472-8550-7b1c92d90075</td><td>a9badf93-d810-4a9d-b8c6-f566188bbcfa</td><td>4433e74c-2dad-4206-9a25-519336fe88fa</td><td>9b3c88fd-4422-44fd-860e-3d6b3ebfe3d0</td><td>12ef6f0f-ca63-4139-a4f1-6ad86fc7db61</td><td>12ef6f0f-ca63-4139-a4f1-6ad86fc7db61</td><td>50e76899-a6c1-4e0f-943c-025352a012ec</td><td>893dfe82-0fcb-49c5-8d0e-04b112d524f2</td><td>4304b319-7904-42bb-b278-e5638edbe1a1</td></tr>\n",
       "\t<tr><td>bcr_canonical_reason-2               </td><td>NA                                  </td><td>NA                                  </td><td>NA                                  </td><td>NA                                  </td><td>NA                                  </td><td>NA                                  </td><td>NA                                  </td><td>NA                                  </td><td>NA                                  </td><td>⋯</td><td>NA                                  </td><td>NA                                  </td><td>NA                                  </td><td>NA                                  </td><td>NA                                  </td><td>case matched methylation control    </td><td>case matched methylation control    </td><td>NA                                  </td><td>NA                                  </td><td>NA                                  </td></tr>\n",
       "\t<tr><td>bcr_canonical_reason-3               </td><td>NA                                  </td><td>NA                                  </td><td>NA                                  </td><td>NA                                  </td><td>NA                                  </td><td>NA                                  </td><td>NA                                  </td><td>NA                                  </td><td>NA                                  </td><td>⋯</td><td>NA                                  </td><td>NA                                  </td><td>NA                                  </td><td>NA                                  </td><td>NA                                  </td><td>germline comparison                 </td><td>germline comparison                 </td><td>NA                                  </td><td>NA                                  </td><td>NA                                  </td></tr>\n",
       "</tbody>\n",
       "</table>\n"
      ],
      "text/latex": [
       "A data.table: 20 × 184\n",
       "\\begin{tabular}{lllllllllllllllllllll}\n",
       " participant\\_id & aab1 & aab4 & aab6 & aab8 & aab9 & aaba & aabe & aabf & aabh & ⋯ & aauh & aaui & aaul & a8t3 & a8t5 & a89d & a89d.1 & a8sy & a8lh & aapl\\\\\n",
       " <chr> & <chr> & <chr> & <chr> & <chr> & <chr> & <chr> & <chr> & <chr> & <chr> & ⋯ & <chr> & <chr> & <chr> & <chr> & <chr> & <chr> & <chr> & <chr> & <chr> & <chr>\\\\\n",
       "\\hline\n",
       "\t sample\\_type                           & Primary solid Tumor                  & Primary solid Tumor                  & Primary solid Tumor                  & Primary solid Tumor                  & Primary solid Tumor                  & Primary solid Tumor                  & Primary solid Tumor                  & Primary solid Tumor                  & Primary solid Tumor                  & ⋯ & Primary solid Tumor                  & Primary solid Tumor                  & Primary solid Tumor                  & Primary solid Tumor                  & Primary solid Tumor                  & Solid Tissue Normal                  & Primary solid Tumor                  & Primary solid Tumor                  & Primary solid Tumor                  & Primary solid Tumor                 \\\\\n",
       "\t mRNAseq\\_cluster                       & 1                                    & 2                                    & 3                                    & 1                                    & 4                                    & 3                                    & 3                                    & 2                                    & 2                                    & ⋯ & 2                                    & 5                                    & 3                                    & 4                                    & 5                                    &                                      & 2                                    & 3                                    & 1                                    & 5                                   \\\\\n",
       "\t bcr\\_patient\\_barcode                   & tcga-2j-aab1                         & tcga-2j-aab4                         & tcga-2j-aab6                         & tcga-2j-aab8                         & tcga-2j-aab9                         & tcga-2j-aaba                         & tcga-2j-aabe                         & tcga-2j-aabf                         & tcga-2j-aabh                         & ⋯ & tcga-xd-aauh                         & tcga-xd-aaui                         & tcga-xd-aaul                         & tcga-xn-a8t3                         & tcga-xn-a8t5                         & tcga-yb-a89d                         & tcga-yb-a89d                         & tcga-yh-a8sy                         & tcga-yy-a8lh                         & tcga-z5-aapl                        \\\\\n",
       "\t bcr\\_patient\\_uuid                      & 75119d1a-93e5-4ae7-9d60-69ee929a0772 & 33833131-1482-42d5-9cf5-01cade540234 & 70797499-16e6-48cc-8ae4-1e692713dad3 & 2e8f90f4-aed3-43b0-985c-dfdc2581f24f & a5748656-5330-417a-8938-01f69ddb3576 & e3a19e63-bae5-498b-9687-41194aa5728d & 58c1c391-5ea3-4432-bb1e-e7e1974954bc & 886d6116-d496-444f-9b7b-7449dad31055 & c53328b4-0930-4e6a-a648-283b5565295e & ⋯ & b46b5a4c-59fc-4769-b05a-d15f9aaa753a & 9a2db69e-d429-45d4-89ca-a2c4e0cfc116 & 597a5a56-244b-4218-a55d-5d08217ea28c & dd7bcdd8-1660-4dab-9860-9d136c4cee77 & 382b279f-87e1-4dbc-a2ca-c1dfde1cf254 & b84b58c7-95b8-4162-8e61-414f8fe422c6 & b84b58c7-95b8-4162-8e61-414f8fe422c6 & 503d7e36-df78-428d-9971-09ff707645c2 & ede2e8a7-465e-4725-880d-519899aba0c0 & 6a4e10b6-e6c4-4210-ae4d-0d8e8d0cb3ec\\\\\n",
       "\t vital\\_status                          & dead                                 & alive                                & dead                                 & alive                                & dead                                 & dead                                 & alive                                & dead                                 & alive                                & ⋯ & alive                                & dead                                 & alive                                & alive                                & alive                                & alive                                & alive                                & alive                                & alive                                & alive                               \\\\\n",
       "\t days\\_to\\_death                         & 66                                   & NA                                   & 293                                  & NA                                   & 627                                  & 607                                  & NA                                   & 691                                  & NA                                   & ⋯ & NA                                   & 366                                  & NA                                   & NA                                   & NA                                   & NA                                   & NA                                   & NA                                   & NA                                   & NA                                  \\\\\n",
       "\t days\\_to\\_last\\_followup                 & NA                                   & 729                                  & NA                                   & 80                                   & NA                                   & NA                                   & 676                                  & NA                                   & 1287                                 & ⋯ & 395                                  & NA                                   & 498                                  & 951                                  & 720                                  & 350                                  & 350                                  & 388                                  & 2016                                 & 467                                 \\\\\n",
       "\t additional\\_studies                    & NA                                   & NA                                   & NA                                   & NA                                   & NA                                   & NA                                   & NA                                   & NA                                   & NA                                   & ⋯ & NA                                   & NA                                   & NA                                   & NA                                   & NA                                   & NA                                   & NA                                   & NA                                   & NA                                   & NA                                  \\\\\n",
       "\t adenocarcinoma\\_invasion               & yes                                  & yes                                  & yes                                  & yes                                  & yes                                  & yes                                  & yes                                  & yes                                  & yes                                  & ⋯ & yes                                  & yes                                  & yes                                  & yes                                  & yes                                  & yes                                  & yes                                  & yes                                  & yes                                  & yes                                 \\\\\n",
       "\t age\\_at\\_initial\\_pathologic\\_diagnosis   & 65                                   & 48                                   & 75                                   & 71                                   & 70                                   & 55                                   & 73                                   & 73                                   & 61                                   & ⋯ & 57                                   & 50                                   & 56                                   & 67                                   & 53                                   & 59                                   & 59                                   & 73                                   & 61                                   & 74                                  \\\\\n",
       "\t alcohol\\_history\\_documented            & yes                                  & no                                   & no                                   & no                                   & yes                                  & no                                   & yes                                  & yes                                  & no                                   & ⋯ & yes                                  & yes                                  & yes                                  & no                                   & no                                   & no                                   & no                                   & yes                                  & yes                                  & NA                                  \\\\\n",
       "\t alcoholic\\_exposure\\_category           & weekly drinker                       & NA                                   & NA                                   & NA                                   & weekly drinker                       & NA                                   & weekly drinker                       & weekly drinker                       & NA                                   & ⋯ & daily drinker                        & occasional drinker                   & none                                 & NA                                   & NA                                   & NA                                   & NA                                   & weekly drinker                       & occasional drinker                   & NA                                  \\\\\n",
       "\t amount\\_of\\_alcohol\\_consumption\\_per\\_day & 1                                    & NA                                   & NA                                   & NA                                   & 1                                    & NA                                   & 1                                    & 1                                    & NA                                   & ⋯ & NA                                   & NA                                   & NA                                   & NA                                   & NA                                   & NA                                   & NA                                   & NA                                   & NA                                   & NA                                  \\\\\n",
       "\t anatomic\\_neoplasm\\_subdivision         & head of pancreas                     & other (please specify)               & body of pancreas                     & head of pancreas                     & head of pancreas                     & head of pancreas                     & body of pancreas                     & head of pancreas                     & body of pancreas                     & ⋯ & head of pancreas                     & head of pancreas                     & head of pancreas                     & head of pancreas                     & head of pancreas                     & head of pancreas                     & head of pancreas                     & head of pancreas                     & tail of pancreas                     & other (please specify)              \\\\\n",
       "\t anatomic\\_neoplasm\\_subdivision\\_other   & NA                                   & body \\& tail of pancreas              & NA                                   & NA                                   & NA                                   & NA                                   & NA                                   & NA                                   & NA                                   & ⋯ & NA                                   & NA                                   & NA                                   & NA                                   & NA                                   & NA                                   & NA                                   & NA                                   & NA                                   & body and tail                       \\\\\n",
       "\t b\\_symptoms                            & NA                                   & NA                                   & NA                                   & NA                                   & NA                                   & NA                                   & NA                                   & NA                                   & NA                                   & ⋯ & NA                                   & NA                                   & NA                                   & NA                                   & NA                                   & NA                                   & NA                                   & NA                                   & NA                                   & NA                                  \\\\\n",
       "\t bcr                                   & nationwide children's hospital       & nationwide children's hospital       & nationwide children's hospital       & nationwide children's hospital       & nationwide children's hospital       & nationwide children's hospital       & nationwide children's hospital       & nationwide children's hospital       & nationwide children's hospital       & ⋯ & nationwide children's hospital       & nationwide children's hospital       & nationwide children's hospital       & nationwide children's hospital       & nationwide children's hospital       & nationwide children's hospital       & nationwide children's hospital       & nationwide children's hospital       & nationwide children's hospital       & nationwide children's hospital      \\\\\n",
       "\t bcr\\_aliquot\\_uuid                      & d3f960b2-c69d-4b64-a30f-72f4fa7bb2f9 & 9daae9d7-747e-44e0-a8f8-3c3f9e3f03f3 & c850368e-6e95-4879-8245-205ddeec6fbd & 5749429c-5ac9-40de-b44e-3b795520ec07 & be56b07b-cd57-46a0-baa1-e20169d88468 & 4dddd9de-1aed-43bd-853e-f1d0a845680e & be93c69f-5cc3-4289-9cb3-79024701026f & d4beb2ee-42e9-417d-9ba6-5b9b16c02bae & bd0474cb-d20c-4c4f-bb01-136e2c8fea82 & ⋯ & 5b6016d8-9650-4fd1-b106-6205343129b4 & e5f200b4-1f48-4472-8550-7b1c92d90075 & a9badf93-d810-4a9d-b8c6-f566188bbcfa & 4433e74c-2dad-4206-9a25-519336fe88fa & 9b3c88fd-4422-44fd-860e-3d6b3ebfe3d0 & 12ef6f0f-ca63-4139-a4f1-6ad86fc7db61 & 12ef6f0f-ca63-4139-a4f1-6ad86fc7db61 & 50e76899-a6c1-4e0f-943c-025352a012ec & 893dfe82-0fcb-49c5-8d0e-04b112d524f2 & 4304b319-7904-42bb-b278-e5638edbe1a1\\\\\n",
       "\t bcr\\_canonical\\_reason-2                & NA                                   & NA                                   & NA                                   & NA                                   & NA                                   & NA                                   & NA                                   & NA                                   & NA                                   & ⋯ & NA                                   & NA                                   & NA                                   & NA                                   & NA                                   & case matched methylation control     & case matched methylation control     & NA                                   & NA                                   & NA                                  \\\\\n",
       "\t bcr\\_canonical\\_reason-3                & NA                                   & NA                                   & NA                                   & NA                                   & NA                                   & NA                                   & NA                                   & NA                                   & NA                                   & ⋯ & NA                                   & NA                                   & NA                                   & NA                                   & NA                                   & germline comparison                  & germline comparison                  & NA                                   & NA                                   & NA                                  \\\\\n",
       "\\end{tabular}\n"
      ],
      "text/markdown": [
       "\n",
       "A data.table: 20 × 184\n",
       "\n",
       "| participant_id &lt;chr&gt; | aab1 &lt;chr&gt; | aab4 &lt;chr&gt; | aab6 &lt;chr&gt; | aab8 &lt;chr&gt; | aab9 &lt;chr&gt; | aaba &lt;chr&gt; | aabe &lt;chr&gt; | aabf &lt;chr&gt; | aabh &lt;chr&gt; | ⋯ ⋯ | aauh &lt;chr&gt; | aaui &lt;chr&gt; | aaul &lt;chr&gt; | a8t3 &lt;chr&gt; | a8t5 &lt;chr&gt; | a89d &lt;chr&gt; | a89d.1 &lt;chr&gt; | a8sy &lt;chr&gt; | a8lh &lt;chr&gt; | aapl &lt;chr&gt; |\n",
       "|---|---|---|---|---|---|---|---|---|---|---|---|---|---|---|---|---|---|---|---|---|\n",
       "| sample_type                           | Primary solid Tumor                  | Primary solid Tumor                  | Primary solid Tumor                  | Primary solid Tumor                  | Primary solid Tumor                  | Primary solid Tumor                  | Primary solid Tumor                  | Primary solid Tumor                  | Primary solid Tumor                  | ⋯ | Primary solid Tumor                  | Primary solid Tumor                  | Primary solid Tumor                  | Primary solid Tumor                  | Primary solid Tumor                  | Solid Tissue Normal                  | Primary solid Tumor                  | Primary solid Tumor                  | Primary solid Tumor                  | Primary solid Tumor                  |\n",
       "| mRNAseq_cluster                       | 1                                    | 2                                    | 3                                    | 1                                    | 4                                    | 3                                    | 3                                    | 2                                    | 2                                    | ⋯ | 2                                    | 5                                    | 3                                    | 4                                    | 5                                    | <!----> | 2                                    | 3                                    | 1                                    | 5                                    |\n",
       "| bcr_patient_barcode                   | tcga-2j-aab1                         | tcga-2j-aab4                         | tcga-2j-aab6                         | tcga-2j-aab8                         | tcga-2j-aab9                         | tcga-2j-aaba                         | tcga-2j-aabe                         | tcga-2j-aabf                         | tcga-2j-aabh                         | ⋯ | tcga-xd-aauh                         | tcga-xd-aaui                         | tcga-xd-aaul                         | tcga-xn-a8t3                         | tcga-xn-a8t5                         | tcga-yb-a89d                         | tcga-yb-a89d                         | tcga-yh-a8sy                         | tcga-yy-a8lh                         | tcga-z5-aapl                         |\n",
       "| bcr_patient_uuid                      | 75119d1a-93e5-4ae7-9d60-69ee929a0772 | 33833131-1482-42d5-9cf5-01cade540234 | 70797499-16e6-48cc-8ae4-1e692713dad3 | 2e8f90f4-aed3-43b0-985c-dfdc2581f24f | a5748656-5330-417a-8938-01f69ddb3576 | e3a19e63-bae5-498b-9687-41194aa5728d | 58c1c391-5ea3-4432-bb1e-e7e1974954bc | 886d6116-d496-444f-9b7b-7449dad31055 | c53328b4-0930-4e6a-a648-283b5565295e | ⋯ | b46b5a4c-59fc-4769-b05a-d15f9aaa753a | 9a2db69e-d429-45d4-89ca-a2c4e0cfc116 | 597a5a56-244b-4218-a55d-5d08217ea28c | dd7bcdd8-1660-4dab-9860-9d136c4cee77 | 382b279f-87e1-4dbc-a2ca-c1dfde1cf254 | b84b58c7-95b8-4162-8e61-414f8fe422c6 | b84b58c7-95b8-4162-8e61-414f8fe422c6 | 503d7e36-df78-428d-9971-09ff707645c2 | ede2e8a7-465e-4725-880d-519899aba0c0 | 6a4e10b6-e6c4-4210-ae4d-0d8e8d0cb3ec |\n",
       "| vital_status                          | dead                                 | alive                                | dead                                 | alive                                | dead                                 | dead                                 | alive                                | dead                                 | alive                                | ⋯ | alive                                | dead                                 | alive                                | alive                                | alive                                | alive                                | alive                                | alive                                | alive                                | alive                                |\n",
       "| days_to_death                         | 66                                   | NA                                   | 293                                  | NA                                   | 627                                  | 607                                  | NA                                   | 691                                  | NA                                   | ⋯ | NA                                   | 366                                  | NA                                   | NA                                   | NA                                   | NA                                   | NA                                   | NA                                   | NA                                   | NA                                   |\n",
       "| days_to_last_followup                 | NA                                   | 729                                  | NA                                   | 80                                   | NA                                   | NA                                   | 676                                  | NA                                   | 1287                                 | ⋯ | 395                                  | NA                                   | 498                                  | 951                                  | 720                                  | 350                                  | 350                                  | 388                                  | 2016                                 | 467                                  |\n",
       "| additional_studies                    | NA                                   | NA                                   | NA                                   | NA                                   | NA                                   | NA                                   | NA                                   | NA                                   | NA                                   | ⋯ | NA                                   | NA                                   | NA                                   | NA                                   | NA                                   | NA                                   | NA                                   | NA                                   | NA                                   | NA                                   |\n",
       "| adenocarcinoma_invasion               | yes                                  | yes                                  | yes                                  | yes                                  | yes                                  | yes                                  | yes                                  | yes                                  | yes                                  | ⋯ | yes                                  | yes                                  | yes                                  | yes                                  | yes                                  | yes                                  | yes                                  | yes                                  | yes                                  | yes                                  |\n",
       "| age_at_initial_pathologic_diagnosis   | 65                                   | 48                                   | 75                                   | 71                                   | 70                                   | 55                                   | 73                                   | 73                                   | 61                                   | ⋯ | 57                                   | 50                                   | 56                                   | 67                                   | 53                                   | 59                                   | 59                                   | 73                                   | 61                                   | 74                                   |\n",
       "| alcohol_history_documented            | yes                                  | no                                   | no                                   | no                                   | yes                                  | no                                   | yes                                  | yes                                  | no                                   | ⋯ | yes                                  | yes                                  | yes                                  | no                                   | no                                   | no                                   | no                                   | yes                                  | yes                                  | NA                                   |\n",
       "| alcoholic_exposure_category           | weekly drinker                       | NA                                   | NA                                   | NA                                   | weekly drinker                       | NA                                   | weekly drinker                       | weekly drinker                       | NA                                   | ⋯ | daily drinker                        | occasional drinker                   | none                                 | NA                                   | NA                                   | NA                                   | NA                                   | weekly drinker                       | occasional drinker                   | NA                                   |\n",
       "| amount_of_alcohol_consumption_per_day | 1                                    | NA                                   | NA                                   | NA                                   | 1                                    | NA                                   | 1                                    | 1                                    | NA                                   | ⋯ | NA                                   | NA                                   | NA                                   | NA                                   | NA                                   | NA                                   | NA                                   | NA                                   | NA                                   | NA                                   |\n",
       "| anatomic_neoplasm_subdivision         | head of pancreas                     | other (please specify)               | body of pancreas                     | head of pancreas                     | head of pancreas                     | head of pancreas                     | body of pancreas                     | head of pancreas                     | body of pancreas                     | ⋯ | head of pancreas                     | head of pancreas                     | head of pancreas                     | head of pancreas                     | head of pancreas                     | head of pancreas                     | head of pancreas                     | head of pancreas                     | tail of pancreas                     | other (please specify)               |\n",
       "| anatomic_neoplasm_subdivision_other   | NA                                   | body &amp; tail of pancreas              | NA                                   | NA                                   | NA                                   | NA                                   | NA                                   | NA                                   | NA                                   | ⋯ | NA                                   | NA                                   | NA                                   | NA                                   | NA                                   | NA                                   | NA                                   | NA                                   | NA                                   | body and tail                        |\n",
       "| b_symptoms                            | NA                                   | NA                                   | NA                                   | NA                                   | NA                                   | NA                                   | NA                                   | NA                                   | NA                                   | ⋯ | NA                                   | NA                                   | NA                                   | NA                                   | NA                                   | NA                                   | NA                                   | NA                                   | NA                                   | NA                                   |\n",
       "| bcr                                   | nationwide children's hospital       | nationwide children's hospital       | nationwide children's hospital       | nationwide children's hospital       | nationwide children's hospital       | nationwide children's hospital       | nationwide children's hospital       | nationwide children's hospital       | nationwide children's hospital       | ⋯ | nationwide children's hospital       | nationwide children's hospital       | nationwide children's hospital       | nationwide children's hospital       | nationwide children's hospital       | nationwide children's hospital       | nationwide children's hospital       | nationwide children's hospital       | nationwide children's hospital       | nationwide children's hospital       |\n",
       "| bcr_aliquot_uuid                      | d3f960b2-c69d-4b64-a30f-72f4fa7bb2f9 | 9daae9d7-747e-44e0-a8f8-3c3f9e3f03f3 | c850368e-6e95-4879-8245-205ddeec6fbd | 5749429c-5ac9-40de-b44e-3b795520ec07 | be56b07b-cd57-46a0-baa1-e20169d88468 | 4dddd9de-1aed-43bd-853e-f1d0a845680e | be93c69f-5cc3-4289-9cb3-79024701026f | d4beb2ee-42e9-417d-9ba6-5b9b16c02bae | bd0474cb-d20c-4c4f-bb01-136e2c8fea82 | ⋯ | 5b6016d8-9650-4fd1-b106-6205343129b4 | e5f200b4-1f48-4472-8550-7b1c92d90075 | a9badf93-d810-4a9d-b8c6-f566188bbcfa | 4433e74c-2dad-4206-9a25-519336fe88fa | 9b3c88fd-4422-44fd-860e-3d6b3ebfe3d0 | 12ef6f0f-ca63-4139-a4f1-6ad86fc7db61 | 12ef6f0f-ca63-4139-a4f1-6ad86fc7db61 | 50e76899-a6c1-4e0f-943c-025352a012ec | 893dfe82-0fcb-49c5-8d0e-04b112d524f2 | 4304b319-7904-42bb-b278-e5638edbe1a1 |\n",
       "| bcr_canonical_reason-2                | NA                                   | NA                                   | NA                                   | NA                                   | NA                                   | NA                                   | NA                                   | NA                                   | NA                                   | ⋯ | NA                                   | NA                                   | NA                                   | NA                                   | NA                                   | case matched methylation control     | case matched methylation control     | NA                                   | NA                                   | NA                                   |\n",
       "| bcr_canonical_reason-3                | NA                                   | NA                                   | NA                                   | NA                                   | NA                                   | NA                                   | NA                                   | NA                                   | NA                                   | ⋯ | NA                                   | NA                                   | NA                                   | NA                                   | NA                                   | germline comparison                  | germline comparison                  | NA                                   | NA                                   | NA                                   |\n",
       "\n"
      ],
      "text/plain": [
       "   participant_id                        aab1                                \n",
       "1  sample_type                           Primary solid Tumor                 \n",
       "2  mRNAseq_cluster                       1                                   \n",
       "3  bcr_patient_barcode                   tcga-2j-aab1                        \n",
       "4  bcr_patient_uuid                      75119d1a-93e5-4ae7-9d60-69ee929a0772\n",
       "5  vital_status                          dead                                \n",
       "6  days_to_death                         66                                  \n",
       "7  days_to_last_followup                 NA                                  \n",
       "8  additional_studies                    NA                                  \n",
       "9  adenocarcinoma_invasion               yes                                 \n",
       "10 age_at_initial_pathologic_diagnosis   65                                  \n",
       "11 alcohol_history_documented            yes                                 \n",
       "12 alcoholic_exposure_category           weekly drinker                      \n",
       "13 amount_of_alcohol_consumption_per_day 1                                   \n",
       "14 anatomic_neoplasm_subdivision         head of pancreas                    \n",
       "15 anatomic_neoplasm_subdivision_other   NA                                  \n",
       "16 b_symptoms                            NA                                  \n",
       "17 bcr                                   nationwide children's hospital      \n",
       "18 bcr_aliquot_uuid                      d3f960b2-c69d-4b64-a30f-72f4fa7bb2f9\n",
       "19 bcr_canonical_reason-2                NA                                  \n",
       "20 bcr_canonical_reason-3                NA                                  \n",
       "   aab4                                 aab6                                \n",
       "1  Primary solid Tumor                  Primary solid Tumor                 \n",
       "2  2                                    3                                   \n",
       "3  tcga-2j-aab4                         tcga-2j-aab6                        \n",
       "4  33833131-1482-42d5-9cf5-01cade540234 70797499-16e6-48cc-8ae4-1e692713dad3\n",
       "5  alive                                dead                                \n",
       "6  NA                                   293                                 \n",
       "7  729                                  NA                                  \n",
       "8  NA                                   NA                                  \n",
       "9  yes                                  yes                                 \n",
       "10 48                                   75                                  \n",
       "11 no                                   no                                  \n",
       "12 NA                                   NA                                  \n",
       "13 NA                                   NA                                  \n",
       "14 other (please specify)               body of pancreas                    \n",
       "15 body & tail of pancreas              NA                                  \n",
       "16 NA                                   NA                                  \n",
       "17 nationwide children's hospital       nationwide children's hospital      \n",
       "18 9daae9d7-747e-44e0-a8f8-3c3f9e3f03f3 c850368e-6e95-4879-8245-205ddeec6fbd\n",
       "19 NA                                   NA                                  \n",
       "20 NA                                   NA                                  \n",
       "   aab8                                 aab9                                \n",
       "1  Primary solid Tumor                  Primary solid Tumor                 \n",
       "2  1                                    4                                   \n",
       "3  tcga-2j-aab8                         tcga-2j-aab9                        \n",
       "4  2e8f90f4-aed3-43b0-985c-dfdc2581f24f a5748656-5330-417a-8938-01f69ddb3576\n",
       "5  alive                                dead                                \n",
       "6  NA                                   627                                 \n",
       "7  80                                   NA                                  \n",
       "8  NA                                   NA                                  \n",
       "9  yes                                  yes                                 \n",
       "10 71                                   70                                  \n",
       "11 no                                   yes                                 \n",
       "12 NA                                   weekly drinker                      \n",
       "13 NA                                   1                                   \n",
       "14 head of pancreas                     head of pancreas                    \n",
       "15 NA                                   NA                                  \n",
       "16 NA                                   NA                                  \n",
       "17 nationwide children's hospital       nationwide children's hospital      \n",
       "18 5749429c-5ac9-40de-b44e-3b795520ec07 be56b07b-cd57-46a0-baa1-e20169d88468\n",
       "19 NA                                   NA                                  \n",
       "20 NA                                   NA                                  \n",
       "   aaba                                 aabe                                \n",
       "1  Primary solid Tumor                  Primary solid Tumor                 \n",
       "2  3                                    3                                   \n",
       "3  tcga-2j-aaba                         tcga-2j-aabe                        \n",
       "4  e3a19e63-bae5-498b-9687-41194aa5728d 58c1c391-5ea3-4432-bb1e-e7e1974954bc\n",
       "5  dead                                 alive                               \n",
       "6  607                                  NA                                  \n",
       "7  NA                                   676                                 \n",
       "8  NA                                   NA                                  \n",
       "9  yes                                  yes                                 \n",
       "10 55                                   73                                  \n",
       "11 no                                   yes                                 \n",
       "12 NA                                   weekly drinker                      \n",
       "13 NA                                   1                                   \n",
       "14 head of pancreas                     body of pancreas                    \n",
       "15 NA                                   NA                                  \n",
       "16 NA                                   NA                                  \n",
       "17 nationwide children's hospital       nationwide children's hospital      \n",
       "18 4dddd9de-1aed-43bd-853e-f1d0a845680e be93c69f-5cc3-4289-9cb3-79024701026f\n",
       "19 NA                                   NA                                  \n",
       "20 NA                                   NA                                  \n",
       "   aabf                                 aabh                                 ⋯\n",
       "1  Primary solid Tumor                  Primary solid Tumor                  ⋯\n",
       "2  2                                    2                                    ⋯\n",
       "3  tcga-2j-aabf                         tcga-2j-aabh                         ⋯\n",
       "4  886d6116-d496-444f-9b7b-7449dad31055 c53328b4-0930-4e6a-a648-283b5565295e ⋯\n",
       "5  dead                                 alive                                ⋯\n",
       "6  691                                  NA                                   ⋯\n",
       "7  NA                                   1287                                 ⋯\n",
       "8  NA                                   NA                                   ⋯\n",
       "9  yes                                  yes                                  ⋯\n",
       "10 73                                   61                                   ⋯\n",
       "11 yes                                  no                                   ⋯\n",
       "12 weekly drinker                       NA                                   ⋯\n",
       "13 1                                    NA                                   ⋯\n",
       "14 head of pancreas                     body of pancreas                     ⋯\n",
       "15 NA                                   NA                                   ⋯\n",
       "16 NA                                   NA                                   ⋯\n",
       "17 nationwide children's hospital       nationwide children's hospital       ⋯\n",
       "18 d4beb2ee-42e9-417d-9ba6-5b9b16c02bae bd0474cb-d20c-4c4f-bb01-136e2c8fea82 ⋯\n",
       "19 NA                                   NA                                   ⋯\n",
       "20 NA                                   NA                                   ⋯\n",
       "   aauh                                 aaui                                \n",
       "1  Primary solid Tumor                  Primary solid Tumor                 \n",
       "2  2                                    5                                   \n",
       "3  tcga-xd-aauh                         tcga-xd-aaui                        \n",
       "4  b46b5a4c-59fc-4769-b05a-d15f9aaa753a 9a2db69e-d429-45d4-89ca-a2c4e0cfc116\n",
       "5  alive                                dead                                \n",
       "6  NA                                   366                                 \n",
       "7  395                                  NA                                  \n",
       "8  NA                                   NA                                  \n",
       "9  yes                                  yes                                 \n",
       "10 57                                   50                                  \n",
       "11 yes                                  yes                                 \n",
       "12 daily drinker                        occasional drinker                  \n",
       "13 NA                                   NA                                  \n",
       "14 head of pancreas                     head of pancreas                    \n",
       "15 NA                                   NA                                  \n",
       "16 NA                                   NA                                  \n",
       "17 nationwide children's hospital       nationwide children's hospital      \n",
       "18 5b6016d8-9650-4fd1-b106-6205343129b4 e5f200b4-1f48-4472-8550-7b1c92d90075\n",
       "19 NA                                   NA                                  \n",
       "20 NA                                   NA                                  \n",
       "   aaul                                 a8t3                                \n",
       "1  Primary solid Tumor                  Primary solid Tumor                 \n",
       "2  3                                    4                                   \n",
       "3  tcga-xd-aaul                         tcga-xn-a8t3                        \n",
       "4  597a5a56-244b-4218-a55d-5d08217ea28c dd7bcdd8-1660-4dab-9860-9d136c4cee77\n",
       "5  alive                                alive                               \n",
       "6  NA                                   NA                                  \n",
       "7  498                                  951                                 \n",
       "8  NA                                   NA                                  \n",
       "9  yes                                  yes                                 \n",
       "10 56                                   67                                  \n",
       "11 yes                                  no                                  \n",
       "12 none                                 NA                                  \n",
       "13 NA                                   NA                                  \n",
       "14 head of pancreas                     head of pancreas                    \n",
       "15 NA                                   NA                                  \n",
       "16 NA                                   NA                                  \n",
       "17 nationwide children's hospital       nationwide children's hospital      \n",
       "18 a9badf93-d810-4a9d-b8c6-f566188bbcfa 4433e74c-2dad-4206-9a25-519336fe88fa\n",
       "19 NA                                   NA                                  \n",
       "20 NA                                   NA                                  \n",
       "   a8t5                                 a89d                                \n",
       "1  Primary solid Tumor                  Solid Tissue Normal                 \n",
       "2  5                                                                        \n",
       "3  tcga-xn-a8t5                         tcga-yb-a89d                        \n",
       "4  382b279f-87e1-4dbc-a2ca-c1dfde1cf254 b84b58c7-95b8-4162-8e61-414f8fe422c6\n",
       "5  alive                                alive                               \n",
       "6  NA                                   NA                                  \n",
       "7  720                                  350                                 \n",
       "8  NA                                   NA                                  \n",
       "9  yes                                  yes                                 \n",
       "10 53                                   59                                  \n",
       "11 no                                   no                                  \n",
       "12 NA                                   NA                                  \n",
       "13 NA                                   NA                                  \n",
       "14 head of pancreas                     head of pancreas                    \n",
       "15 NA                                   NA                                  \n",
       "16 NA                                   NA                                  \n",
       "17 nationwide children's hospital       nationwide children's hospital      \n",
       "18 9b3c88fd-4422-44fd-860e-3d6b3ebfe3d0 12ef6f0f-ca63-4139-a4f1-6ad86fc7db61\n",
       "19 NA                                   case matched methylation control    \n",
       "20 NA                                   germline comparison                 \n",
       "   a89d.1                               a8sy                                \n",
       "1  Primary solid Tumor                  Primary solid Tumor                 \n",
       "2  2                                    3                                   \n",
       "3  tcga-yb-a89d                         tcga-yh-a8sy                        \n",
       "4  b84b58c7-95b8-4162-8e61-414f8fe422c6 503d7e36-df78-428d-9971-09ff707645c2\n",
       "5  alive                                alive                               \n",
       "6  NA                                   NA                                  \n",
       "7  350                                  388                                 \n",
       "8  NA                                   NA                                  \n",
       "9  yes                                  yes                                 \n",
       "10 59                                   73                                  \n",
       "11 no                                   yes                                 \n",
       "12 NA                                   weekly drinker                      \n",
       "13 NA                                   NA                                  \n",
       "14 head of pancreas                     head of pancreas                    \n",
       "15 NA                                   NA                                  \n",
       "16 NA                                   NA                                  \n",
       "17 nationwide children's hospital       nationwide children's hospital      \n",
       "18 12ef6f0f-ca63-4139-a4f1-6ad86fc7db61 50e76899-a6c1-4e0f-943c-025352a012ec\n",
       "19 case matched methylation control     NA                                  \n",
       "20 germline comparison                  NA                                  \n",
       "   a8lh                                 aapl                                \n",
       "1  Primary solid Tumor                  Primary solid Tumor                 \n",
       "2  1                                    5                                   \n",
       "3  tcga-yy-a8lh                         tcga-z5-aapl                        \n",
       "4  ede2e8a7-465e-4725-880d-519899aba0c0 6a4e10b6-e6c4-4210-ae4d-0d8e8d0cb3ec\n",
       "5  alive                                alive                               \n",
       "6  NA                                   NA                                  \n",
       "7  2016                                 467                                 \n",
       "8  NA                                   NA                                  \n",
       "9  yes                                  yes                                 \n",
       "10 61                                   74                                  \n",
       "11 yes                                  NA                                  \n",
       "12 occasional drinker                   NA                                  \n",
       "13 NA                                   NA                                  \n",
       "14 tail of pancreas                     other (please specify)              \n",
       "15 NA                                   body and tail                       \n",
       "16 NA                                   NA                                  \n",
       "17 nationwide children's hospital       nationwide children's hospital      \n",
       "18 893dfe82-0fcb-49c5-8d0e-04b112d524f2 4304b319-7904-42bb-b278-e5638edbe1a1\n",
       "19 NA                                   NA                                  \n",
       "20 NA                                   NA                                  "
      ]
     },
     "metadata": {},
     "output_type": "display_data"
    }
   ],
   "source": [
    "# Dimensions of the dataset\n",
    "dimensions <- dim(original_dataset)\n",
    "message(\"The dimensions of the dataset are: \",\"Rows = \",dimensions[1] ,\" and Columns = \",dimensions[2])\n",
    "\n",
    "# Overview of types of Data\n",
    "#str(original_dataset)\n",
    "\n",
    "# Patients IDs\n",
    "patients_IDs <- colnames(original_dataset)\n",
    "\n",
    "# Features\n",
    "rownames <- original_dataset[,1]\n",
    "\n",
    "# Attributes\n",
    "#attributes(original_dataset)\n",
    "\n",
    "head(original_dataset,20)"
   ]
  },
  {
   "cell_type": "markdown",
   "metadata": {},
   "source": [
    "### Separate the two data sets (meta data and expression data)"
   ]
  },
  {
   "cell_type": "code",
   "execution_count": 4,
   "metadata": {},
   "outputs": [],
   "source": [
    "Expression_data <- original_dataset[124:length(original_dataset$participant_id),]\n",
    "Patient_data <- original_dataset[1:123,]"
   ]
  },
  {
   "cell_type": "markdown",
   "metadata": {},
   "source": [
    "### Transpose the data sets"
   ]
  },
  {
   "cell_type": "code",
   "execution_count": 5,
   "metadata": {},
   "outputs": [
    {
     "name": "stderr",
     "output_type": "stream",
     "text": [
      "The dimensions of the Expression dataset are: Rows = 183 and Columns = 18465\n",
      "\n",
      "The dimensions of the Patient dataset are: Rows = 183 and Columns = 123\n",
      "\n"
     ]
    }
   ],
   "source": [
    "transposefunction <- function(dataset){\n",
    "    rowname <- dataset$participant_id\n",
    "    colname <- 1:length(original_dataset[1,])\n",
    "    transposed_dataset <- transpose(dataset)\n",
    "    rownames(transposed_dataset) <- colname\n",
    "    colnames(transposed_dataset) <- rowname\n",
    "    transposed_dataset <- transposed_dataset[2:nrow(transposed_dataset),]\n",
    "    return(transposed_dataset)\n",
    "}\n",
    "\n",
    "t_expression_data <- transposefunction(Expression_data)\n",
    "t_patient_data <- transposefunction(Patient_data)\n",
    "\n",
    "dimensions <- dim(t_expression_data)\n",
    "message(\"The dimensions of the Expression dataset are: \",\"Rows = \",dimensions[1] ,\" and Columns = \",dimensions[2])\n",
    "dimensions <- dim(t_patient_data)\n",
    "message(\"The dimensions of the Patient dataset are: \",\"Rows = \",dimensions[1] ,\" and Columns = \",dimensions[2])"
   ]
  },
  {
   "cell_type": "code",
   "execution_count": 6,
   "metadata": {},
   "outputs": [
    {
     "data": {
      "text/html": [
       "3379095"
      ],
      "text/latex": [
       "3379095"
      ],
      "text/markdown": [
       "3379095"
      ],
      "text/plain": [
       "[1] 3379095"
      ]
     },
     "metadata": {},
     "output_type": "display_data"
    },
    {
     "data": {
      "text/plain": [
       "\n",
       "  FALSE    TRUE \n",
       "3244141  134954 "
      ]
     },
     "metadata": {},
     "output_type": "display_data"
    },
    {
     "data": {
      "text/plain": [
       "  SLC35E2           A1BG            A1CF           A2BP1        \n",
       " Mode :logical   Mode :logical   Mode :logical   Mode :logical  \n",
       " FALSE:5         FALSE:5         FALSE:5         FALSE:3        \n",
       "                                                 TRUE :2        \n",
       "   A2LD1        \n",
       " Mode :logical  \n",
       " FALSE:5        \n",
       "                "
      ]
     },
     "metadata": {},
     "output_type": "display_data"
    }
   ],
   "source": [
    "# convert the whole data set into floats\n",
    "t_expression_data[] <- lapply(t_expression_data, function(x) {as.numeric(as.character(x))})\n",
    "\n",
    "dimensions <- dim(t_expression_data)\n",
    "dimensions[1]*dimensions[2]\n",
    "\n",
    "table(is.na(t_expression_data))\n",
    "\n",
    "summary(is.na(t_expression_data[1:5,1:5]))\n",
    "## there are 134'954 missing values (from 3'379'095 total) in the expression data set"
   ]
  },
  {
   "cell_type": "code",
   "execution_count": 7,
   "metadata": {},
   "outputs": [
    {
     "data": {
      "text/plain": [
       "\n",
       "FALSE  TRUE \n",
       "12855  9654 "
      ]
     },
     "metadata": {},
     "output_type": "display_data"
    },
    {
     "data": {
      "text/html": [
       "22509"
      ],
      "text/latex": [
       "22509"
      ],
      "text/markdown": [
       "22509"
      ],
      "text/plain": [
       "[1] 22509"
      ]
     },
     "metadata": {},
     "output_type": "display_data"
    },
    {
     "data": {
      "text/plain": [
       " sample_type     mRNAseq_cluster bcr_patient_barcode bcr_patient_uuid\n",
       " Mode :logical   Mode :logical   Mode :logical       Mode :logical   \n",
       " FALSE:5         FALSE:5         FALSE:5             FALSE:5         \n",
       " vital_status   \n",
       " Mode :logical  \n",
       " FALSE:5        "
      ]
     },
     "metadata": {},
     "output_type": "display_data"
    }
   ],
   "source": [
    "table(is.na(t_patient_data))\n",
    "\n",
    "dimensions <- dim(t_patient_data)\n",
    "dimensions[1]*dimensions[2]\n",
    "\n",
    "summary(is.na(t_patient_data[1:5,1:5]))\n",
    "## 9654 of 22632 are missing values --> but some have a meaning (e.g. when patients haven't died days_to_death is NA)"
   ]
  },
  {
   "cell_type": "code",
   "execution_count": 17,
   "metadata": {},
   "outputs": [
    {
     "data": {
      "text/html": [
       "<table>\n",
       "<thead><tr><th scope=col>sample_type</th><th scope=col>mRNAseq_cluster</th><th scope=col>bcr_patient_barcode</th><th scope=col>bcr_patient_uuid</th><th scope=col>vital_status</th><th scope=col>days_to_death</th><th scope=col>days_to_last_followup</th><th scope=col>additional_studies</th><th scope=col>adenocarcinoma_invasion</th><th scope=col>age_at_initial_pathologic_diagnosis</th><th scope=col>...</th><th scope=col>tobacco_smoking_history</th><th scope=col>total_dose</th><th scope=col>total_dose_units</th><th scope=col>tumor_tissue_site</th><th scope=col>tumor_type</th><th scope=col>withdrawn</th><th scope=col>year_of_dcc_upload</th><th scope=col>year_of_form_completion</th><th scope=col>year_of_initial_pathologic_diagnosis</th><th scope=col>year_of_tobacco_smoking_onset</th></tr></thead>\n",
       "<tbody>\n",
       "\t<tr><td>Primary solid Tumor                 </td><td>1                                   </td><td>tcga-2j-aab1                        </td><td>75119d1a-93e5-4ae7-9d60-69ee929a0772</td><td>dead                                </td><td>66                                  </td><td>NA                                  </td><td>NA                                  </td><td>yes                                 </td><td>65                                  </td><td>...                                 </td><td>3                                   </td><td>NA                                  </td><td>NA                                  </td><td>pancreas                            </td><td>primary                             </td><td>false                               </td><td>2016                                </td><td>2014                                </td><td>2012                                </td><td>1962                                </td></tr>\n",
       "\t<tr><td>Primary solid Tumor                 </td><td>2                                   </td><td>tcga-2j-aab4                        </td><td>33833131-1482-42d5-9cf5-01cade540234</td><td>alive                               </td><td>NA                                  </td><td>729                                 </td><td>NA                                  </td><td>yes                                 </td><td>48                                  </td><td>...                                 </td><td>5                                   </td><td>NA                                  </td><td>NA                                  </td><td>pancreas                            </td><td>primary                             </td><td>false                               </td><td>2016                                </td><td>2014                                </td><td>2012                                </td><td>NA                                  </td></tr>\n",
       "\t<tr><td>Primary solid Tumor                 </td><td>3                                   </td><td>tcga-2j-aab6                        </td><td>70797499-16e6-48cc-8ae4-1e692713dad3</td><td>dead                                </td><td>293                                 </td><td>NA                                  </td><td>NA                                  </td><td>yes                                 </td><td>75                                  </td><td>...                                 </td><td>NA                                  </td><td>NA                                  </td><td>NA                                  </td><td>pancreas                            </td><td>primary                             </td><td>false                               </td><td>2016                                </td><td>2014                                </td><td>2012                                </td><td>NA                                  </td></tr>\n",
       "\t<tr><td>Primary solid Tumor                 </td><td>1                                   </td><td>tcga-2j-aab8                        </td><td>2e8f90f4-aed3-43b0-985c-dfdc2581f24f</td><td>alive                               </td><td>NA                                  </td><td>80                                  </td><td>NA                                  </td><td>yes                                 </td><td>71                                  </td><td>...                                 </td><td>NA                                  </td><td>NA                                  </td><td>NA                                  </td><td>pancreas                            </td><td>primary                             </td><td>false                               </td><td>2016                                </td><td>2014                                </td><td>2012                                </td><td>NA                                  </td></tr>\n",
       "\t<tr><td>Primary solid Tumor                 </td><td>4                                   </td><td>tcga-2j-aab9                        </td><td>a5748656-5330-417a-8938-01f69ddb3576</td><td>dead                                </td><td>627                                 </td><td>NA                                  </td><td>NA                                  </td><td>yes                                 </td><td>70                                  </td><td>...                                 </td><td>1                                   </td><td>NA                                  </td><td>NA                                  </td><td>pancreas                            </td><td>primary                             </td><td>false                               </td><td>2016                                </td><td>2014                                </td><td>2012                                </td><td>NA                                  </td></tr>\n",
       "\t<tr><td>Primary solid Tumor                 </td><td>3                                   </td><td>tcga-2j-aaba                        </td><td>e3a19e63-bae5-498b-9687-41194aa5728d</td><td>dead                                </td><td>607                                 </td><td>NA                                  </td><td>NA                                  </td><td>yes                                 </td><td>55                                  </td><td>...                                 </td><td>5                                   </td><td>NA                                  </td><td>NA                                  </td><td>pancreas                            </td><td>primary                             </td><td>false                               </td><td>2016                                </td><td>2014                                </td><td>2012                                </td><td>NA                                  </td></tr>\n",
       "\t<tr><td>Primary solid Tumor                 </td><td>3                                   </td><td>tcga-2j-aabe                        </td><td>58c1c391-5ea3-4432-bb1e-e7e1974954bc</td><td>alive                               </td><td>NA                                  </td><td>676                                 </td><td>NA                                  </td><td>yes                                 </td><td>73                                  </td><td>...                                 </td><td>3                                   </td><td>NA                                  </td><td>NA                                  </td><td>pancreas                            </td><td>primary                             </td><td>false                               </td><td>2016                                </td><td>2014                                </td><td>2012                                </td><td>1960                                </td></tr>\n",
       "\t<tr><td>Primary solid Tumor                 </td><td>2                                   </td><td>tcga-2j-aabf                        </td><td>886d6116-d496-444f-9b7b-7449dad31055</td><td>dead                                </td><td>691                                 </td><td>NA                                  </td><td>NA                                  </td><td>yes                                 </td><td>73                                  </td><td>...                                 </td><td>3                                   </td><td>NA                                  </td><td>NA                                  </td><td>pancreas                            </td><td>primary                             </td><td>false                               </td><td>2016                                </td><td>2014                                </td><td>2012                                </td><td>1960                                </td></tr>\n",
       "\t<tr><td>Primary solid Tumor                 </td><td>2                                   </td><td>tcga-2j-aabh                        </td><td>c53328b4-0930-4e6a-a648-283b5565295e</td><td>alive                               </td><td>NA                                  </td><td>1287                                </td><td>NA                                  </td><td>yes                                 </td><td>61                                  </td><td>...                                 </td><td>1                                   </td><td>NA                                  </td><td>NA                                  </td><td>pancreas                            </td><td>primary                             </td><td>false                               </td><td>2016                                </td><td>2014                                </td><td>2011                                </td><td>NA                                  </td></tr>\n",
       "\t<tr><td>Primary solid Tumor                 </td><td>3                                   </td><td>tcga-2j-aabi                        </td><td>2aaf212f-000a-4a9d-8a4a-198fa94f491e</td><td>alive                               </td><td>NA                                  </td><td>969                                 </td><td>NA                                  </td><td>yes                                 </td><td>55                                  </td><td>...                                 </td><td>4                                   </td><td>NA                                  </td><td>NA                                  </td><td>pancreas                            </td><td>primary                             </td><td>false                               </td><td>2016                                </td><td>2014                                </td><td>2011                                </td><td>1973                                </td></tr>\n",
       "</tbody>\n",
       "</table>\n"
      ],
      "text/latex": [
       "\\begin{tabular}{r|lllllllllllllllllllllllllllllllllllllllllllllllllllllllllllllllllllllllllllllllllllllllllllllllllllllllllllllllllllllllllll}\n",
       " sample\\_type & mRNAseq\\_cluster & bcr\\_patient\\_barcode & bcr\\_patient\\_uuid & vital\\_status & days\\_to\\_death & days\\_to\\_last\\_followup & additional\\_studies & adenocarcinoma\\_invasion & age\\_at\\_initial\\_pathologic\\_diagnosis & ... & tobacco\\_smoking\\_history & total\\_dose & total\\_dose\\_units & tumor\\_tissue\\_site & tumor\\_type & withdrawn & year\\_of\\_dcc\\_upload & year\\_of\\_form\\_completion & year\\_of\\_initial\\_pathologic\\_diagnosis & year\\_of\\_tobacco\\_smoking\\_onset\\\\\n",
       "\\hline\n",
       "\t Primary solid Tumor                  & 1                                    & tcga-2j-aab1                         & 75119d1a-93e5-4ae7-9d60-69ee929a0772 & dead                                 & 66                                   & NA                                   & NA                                   & yes                                  & 65                                   & ...                                  & 3                                    & NA                                   & NA                                   & pancreas                             & primary                              & false                                & 2016                                 & 2014                                 & 2012                                 & 1962                                \\\\\n",
       "\t Primary solid Tumor                  & 2                                    & tcga-2j-aab4                         & 33833131-1482-42d5-9cf5-01cade540234 & alive                                & NA                                   & 729                                  & NA                                   & yes                                  & 48                                   & ...                                  & 5                                    & NA                                   & NA                                   & pancreas                             & primary                              & false                                & 2016                                 & 2014                                 & 2012                                 & NA                                  \\\\\n",
       "\t Primary solid Tumor                  & 3                                    & tcga-2j-aab6                         & 70797499-16e6-48cc-8ae4-1e692713dad3 & dead                                 & 293                                  & NA                                   & NA                                   & yes                                  & 75                                   & ...                                  & NA                                   & NA                                   & NA                                   & pancreas                             & primary                              & false                                & 2016                                 & 2014                                 & 2012                                 & NA                                  \\\\\n",
       "\t Primary solid Tumor                  & 1                                    & tcga-2j-aab8                         & 2e8f90f4-aed3-43b0-985c-dfdc2581f24f & alive                                & NA                                   & 80                                   & NA                                   & yes                                  & 71                                   & ...                                  & NA                                   & NA                                   & NA                                   & pancreas                             & primary                              & false                                & 2016                                 & 2014                                 & 2012                                 & NA                                  \\\\\n",
       "\t Primary solid Tumor                  & 4                                    & tcga-2j-aab9                         & a5748656-5330-417a-8938-01f69ddb3576 & dead                                 & 627                                  & NA                                   & NA                                   & yes                                  & 70                                   & ...                                  & 1                                    & NA                                   & NA                                   & pancreas                             & primary                              & false                                & 2016                                 & 2014                                 & 2012                                 & NA                                  \\\\\n",
       "\t Primary solid Tumor                  & 3                                    & tcga-2j-aaba                         & e3a19e63-bae5-498b-9687-41194aa5728d & dead                                 & 607                                  & NA                                   & NA                                   & yes                                  & 55                                   & ...                                  & 5                                    & NA                                   & NA                                   & pancreas                             & primary                              & false                                & 2016                                 & 2014                                 & 2012                                 & NA                                  \\\\\n",
       "\t Primary solid Tumor                  & 3                                    & tcga-2j-aabe                         & 58c1c391-5ea3-4432-bb1e-e7e1974954bc & alive                                & NA                                   & 676                                  & NA                                   & yes                                  & 73                                   & ...                                  & 3                                    & NA                                   & NA                                   & pancreas                             & primary                              & false                                & 2016                                 & 2014                                 & 2012                                 & 1960                                \\\\\n",
       "\t Primary solid Tumor                  & 2                                    & tcga-2j-aabf                         & 886d6116-d496-444f-9b7b-7449dad31055 & dead                                 & 691                                  & NA                                   & NA                                   & yes                                  & 73                                   & ...                                  & 3                                    & NA                                   & NA                                   & pancreas                             & primary                              & false                                & 2016                                 & 2014                                 & 2012                                 & 1960                                \\\\\n",
       "\t Primary solid Tumor                  & 2                                    & tcga-2j-aabh                         & c53328b4-0930-4e6a-a648-283b5565295e & alive                                & NA                                   & 1287                                 & NA                                   & yes                                  & 61                                   & ...                                  & 1                                    & NA                                   & NA                                   & pancreas                             & primary                              & false                                & 2016                                 & 2014                                 & 2011                                 & NA                                  \\\\\n",
       "\t Primary solid Tumor                  & 3                                    & tcga-2j-aabi                         & 2aaf212f-000a-4a9d-8a4a-198fa94f491e & alive                                & NA                                   & 969                                  & NA                                   & yes                                  & 55                                   & ...                                  & 4                                    & NA                                   & NA                                   & pancreas                             & primary                              & false                                & 2016                                 & 2014                                 & 2011                                 & 1973                                \\\\\n",
       "\\end{tabular}\n"
      ],
      "text/markdown": [
       "\n",
       "| sample_type | mRNAseq_cluster | bcr_patient_barcode | bcr_patient_uuid | vital_status | days_to_death | days_to_last_followup | additional_studies | adenocarcinoma_invasion | age_at_initial_pathologic_diagnosis | ... | tobacco_smoking_history | total_dose | total_dose_units | tumor_tissue_site | tumor_type | withdrawn | year_of_dcc_upload | year_of_form_completion | year_of_initial_pathologic_diagnosis | year_of_tobacco_smoking_onset |\n",
       "|---|---|---|---|---|---|---|---|---|---|---|---|---|---|---|---|---|---|---|---|---|\n",
       "| Primary solid Tumor                  | 1                                    | tcga-2j-aab1                         | 75119d1a-93e5-4ae7-9d60-69ee929a0772 | dead                                 | 66                                   | NA                                   | NA                                   | yes                                  | 65                                   | ...                                  | 3                                    | NA                                   | NA                                   | pancreas                             | primary                              | false                                | 2016                                 | 2014                                 | 2012                                 | 1962                                 |\n",
       "| Primary solid Tumor                  | 2                                    | tcga-2j-aab4                         | 33833131-1482-42d5-9cf5-01cade540234 | alive                                | NA                                   | 729                                  | NA                                   | yes                                  | 48                                   | ...                                  | 5                                    | NA                                   | NA                                   | pancreas                             | primary                              | false                                | 2016                                 | 2014                                 | 2012                                 | NA                                   |\n",
       "| Primary solid Tumor                  | 3                                    | tcga-2j-aab6                         | 70797499-16e6-48cc-8ae4-1e692713dad3 | dead                                 | 293                                  | NA                                   | NA                                   | yes                                  | 75                                   | ...                                  | NA                                   | NA                                   | NA                                   | pancreas                             | primary                              | false                                | 2016                                 | 2014                                 | 2012                                 | NA                                   |\n",
       "| Primary solid Tumor                  | 1                                    | tcga-2j-aab8                         | 2e8f90f4-aed3-43b0-985c-dfdc2581f24f | alive                                | NA                                   | 80                                   | NA                                   | yes                                  | 71                                   | ...                                  | NA                                   | NA                                   | NA                                   | pancreas                             | primary                              | false                                | 2016                                 | 2014                                 | 2012                                 | NA                                   |\n",
       "| Primary solid Tumor                  | 4                                    | tcga-2j-aab9                         | a5748656-5330-417a-8938-01f69ddb3576 | dead                                 | 627                                  | NA                                   | NA                                   | yes                                  | 70                                   | ...                                  | 1                                    | NA                                   | NA                                   | pancreas                             | primary                              | false                                | 2016                                 | 2014                                 | 2012                                 | NA                                   |\n",
       "| Primary solid Tumor                  | 3                                    | tcga-2j-aaba                         | e3a19e63-bae5-498b-9687-41194aa5728d | dead                                 | 607                                  | NA                                   | NA                                   | yes                                  | 55                                   | ...                                  | 5                                    | NA                                   | NA                                   | pancreas                             | primary                              | false                                | 2016                                 | 2014                                 | 2012                                 | NA                                   |\n",
       "| Primary solid Tumor                  | 3                                    | tcga-2j-aabe                         | 58c1c391-5ea3-4432-bb1e-e7e1974954bc | alive                                | NA                                   | 676                                  | NA                                   | yes                                  | 73                                   | ...                                  | 3                                    | NA                                   | NA                                   | pancreas                             | primary                              | false                                | 2016                                 | 2014                                 | 2012                                 | 1960                                 |\n",
       "| Primary solid Tumor                  | 2                                    | tcga-2j-aabf                         | 886d6116-d496-444f-9b7b-7449dad31055 | dead                                 | 691                                  | NA                                   | NA                                   | yes                                  | 73                                   | ...                                  | 3                                    | NA                                   | NA                                   | pancreas                             | primary                              | false                                | 2016                                 | 2014                                 | 2012                                 | 1960                                 |\n",
       "| Primary solid Tumor                  | 2                                    | tcga-2j-aabh                         | c53328b4-0930-4e6a-a648-283b5565295e | alive                                | NA                                   | 1287                                 | NA                                   | yes                                  | 61                                   | ...                                  | 1                                    | NA                                   | NA                                   | pancreas                             | primary                              | false                                | 2016                                 | 2014                                 | 2011                                 | NA                                   |\n",
       "| Primary solid Tumor                  | 3                                    | tcga-2j-aabi                         | 2aaf212f-000a-4a9d-8a4a-198fa94f491e | alive                                | NA                                   | 969                                  | NA                                   | yes                                  | 55                                   | ...                                  | 4                                    | NA                                   | NA                                   | pancreas                             | primary                              | false                                | 2016                                 | 2014                                 | 2011                                 | 1973                                 |\n",
       "\n"
      ],
      "text/plain": [
       "   sample_type         mRNAseq_cluster bcr_patient_barcode\n",
       "1  Primary solid Tumor 1               tcga-2j-aab1       \n",
       "2  Primary solid Tumor 2               tcga-2j-aab4       \n",
       "3  Primary solid Tumor 3               tcga-2j-aab6       \n",
       "4  Primary solid Tumor 1               tcga-2j-aab8       \n",
       "5  Primary solid Tumor 4               tcga-2j-aab9       \n",
       "6  Primary solid Tumor 3               tcga-2j-aaba       \n",
       "7  Primary solid Tumor 3               tcga-2j-aabe       \n",
       "8  Primary solid Tumor 2               tcga-2j-aabf       \n",
       "9  Primary solid Tumor 2               tcga-2j-aabh       \n",
       "10 Primary solid Tumor 3               tcga-2j-aabi       \n",
       "   bcr_patient_uuid                     vital_status days_to_death\n",
       "1  75119d1a-93e5-4ae7-9d60-69ee929a0772 dead         66           \n",
       "2  33833131-1482-42d5-9cf5-01cade540234 alive        NA           \n",
       "3  70797499-16e6-48cc-8ae4-1e692713dad3 dead         293          \n",
       "4  2e8f90f4-aed3-43b0-985c-dfdc2581f24f alive        NA           \n",
       "5  a5748656-5330-417a-8938-01f69ddb3576 dead         627          \n",
       "6  e3a19e63-bae5-498b-9687-41194aa5728d dead         607          \n",
       "7  58c1c391-5ea3-4432-bb1e-e7e1974954bc alive        NA           \n",
       "8  886d6116-d496-444f-9b7b-7449dad31055 dead         691          \n",
       "9  c53328b4-0930-4e6a-a648-283b5565295e alive        NA           \n",
       "10 2aaf212f-000a-4a9d-8a4a-198fa94f491e alive        NA           \n",
       "   days_to_last_followup additional_studies adenocarcinoma_invasion\n",
       "1  NA                    NA                 yes                    \n",
       "2  729                   NA                 yes                    \n",
       "3  NA                    NA                 yes                    \n",
       "4  80                    NA                 yes                    \n",
       "5  NA                    NA                 yes                    \n",
       "6  NA                    NA                 yes                    \n",
       "7  676                   NA                 yes                    \n",
       "8  NA                    NA                 yes                    \n",
       "9  1287                  NA                 yes                    \n",
       "10 969                   NA                 yes                    \n",
       "   age_at_initial_pathologic_diagnosis ... tobacco_smoking_history total_dose\n",
       "1  65                                  ... 3                       NA        \n",
       "2  48                                  ... 5                       NA        \n",
       "3  75                                  ... NA                      NA        \n",
       "4  71                                  ... NA                      NA        \n",
       "5  70                                  ... 1                       NA        \n",
       "6  55                                  ... 5                       NA        \n",
       "7  73                                  ... 3                       NA        \n",
       "8  73                                  ... 3                       NA        \n",
       "9  61                                  ... 1                       NA        \n",
       "10 55                                  ... 4                       NA        \n",
       "   total_dose_units tumor_tissue_site tumor_type withdrawn year_of_dcc_upload\n",
       "1  NA               pancreas          primary    false     2016              \n",
       "2  NA               pancreas          primary    false     2016              \n",
       "3  NA               pancreas          primary    false     2016              \n",
       "4  NA               pancreas          primary    false     2016              \n",
       "5  NA               pancreas          primary    false     2016              \n",
       "6  NA               pancreas          primary    false     2016              \n",
       "7  NA               pancreas          primary    false     2016              \n",
       "8  NA               pancreas          primary    false     2016              \n",
       "9  NA               pancreas          primary    false     2016              \n",
       "10 NA               pancreas          primary    false     2016              \n",
       "   year_of_form_completion year_of_initial_pathologic_diagnosis\n",
       "1  2014                    2012                                \n",
       "2  2014                    2012                                \n",
       "3  2014                    2012                                \n",
       "4  2014                    2012                                \n",
       "5  2014                    2012                                \n",
       "6  2014                    2012                                \n",
       "7  2014                    2012                                \n",
       "8  2014                    2012                                \n",
       "9  2014                    2011                                \n",
       "10 2014                    2011                                \n",
       "   year_of_tobacco_smoking_onset\n",
       "1  1962                         \n",
       "2  NA                           \n",
       "3  NA                           \n",
       "4  NA                           \n",
       "5  NA                           \n",
       "6  NA                           \n",
       "7  1960                         \n",
       "8  1960                         \n",
       "9  NA                           \n",
       "10 1973                         "
      ]
     },
     "metadata": {},
     "output_type": "display_data"
    }
   ],
   "source": [
    "head(t_patient_data,10)"
   ]
  },
  {
   "cell_type": "code",
   "execution_count": 8,
   "metadata": {
    "scrolled": true
   },
   "outputs": [
    {
     "data": {
      "text/html": [
       "<table>\n",
       "<caption>A data.table: 10 × 18465</caption>\n",
       "<thead>\n",
       "\t<tr><th scope=col>SLC35E2</th><th scope=col>A1BG</th><th scope=col>A1CF</th><th scope=col>A2BP1</th><th scope=col>A2LD1</th><th scope=col>A2ML1</th><th scope=col>A2M</th><th scope=col>A4GALT</th><th scope=col>A4GNT</th><th scope=col>AAA1</th><th scope=col>⋯</th><th scope=col>ZWINT</th><th scope=col>ZXDA</th><th scope=col>ZXDB</th><th scope=col>ZXDC</th><th scope=col>ZYG11A</th><th scope=col>ZYG11B</th><th scope=col>ZYX</th><th scope=col>ZZEF1</th><th scope=col>ZZZ3</th><th scope=col>psiTPTE22</th></tr>\n",
       "\t<tr><th scope=col>&lt;dbl&gt;</th><th scope=col>&lt;dbl&gt;</th><th scope=col>&lt;dbl&gt;</th><th scope=col>&lt;dbl&gt;</th><th scope=col>&lt;dbl&gt;</th><th scope=col>&lt;dbl&gt;</th><th scope=col>&lt;dbl&gt;</th><th scope=col>&lt;dbl&gt;</th><th scope=col>&lt;dbl&gt;</th><th scope=col>&lt;dbl&gt;</th><th scope=col>⋯</th><th scope=col>&lt;dbl&gt;</th><th scope=col>&lt;dbl&gt;</th><th scope=col>&lt;dbl&gt;</th><th scope=col>&lt;dbl&gt;</th><th scope=col>&lt;dbl&gt;</th><th scope=col>&lt;dbl&gt;</th><th scope=col>&lt;dbl&gt;</th><th scope=col>&lt;dbl&gt;</th><th scope=col>&lt;dbl&gt;</th><th scope=col>&lt;dbl&gt;</th></tr>\n",
       "</thead>\n",
       "<tbody>\n",
       "\t<tr><td>7.45</td><td>6.4</td><td>4.7</td><td>-1.0</td><td>7.5</td><td> 6.4</td><td>14.3</td><td>10.6</td><td> 8.8</td><td> 1.0</td><td>⋯</td><td>8.6</td><td>6.2</td><td>9.0</td><td> 9.9</td><td> NaN</td><td>9.2</td><td>12.9</td><td>10.1</td><td>9.3</td><td>5.5</td></tr>\n",
       "\t<tr><td>8.10</td><td>5.8</td><td>5.7</td><td> 1.1</td><td>6.8</td><td> NaN</td><td>14.0</td><td>10.2</td><td> 5.6</td><td>-1.2</td><td>⋯</td><td>8.8</td><td>5.8</td><td>8.5</td><td>10.0</td><td> NaN</td><td>9.3</td><td>12.4</td><td> 9.8</td><td>8.9</td><td>4.5</td></tr>\n",
       "\t<tr><td>7.20</td><td>6.4</td><td>3.0</td><td> NaN</td><td>7.3</td><td>10.8</td><td>13.1</td><td>10.1</td><td> 0.2</td><td> 0.2</td><td>⋯</td><td>9.1</td><td>3.9</td><td>8.1</td><td>10.0</td><td>-0.8</td><td>9.4</td><td>13.5</td><td> 9.8</td><td>9.2</td><td>4.7</td></tr>\n",
       "\t<tr><td>8.00</td><td>5.8</td><td>5.1</td><td> NaN</td><td>7.5</td><td> 4.1</td><td>13.8</td><td> 8.6</td><td> 3.2</td><td>-0.1</td><td>⋯</td><td>8.9</td><td>5.2</td><td>8.5</td><td> 9.7</td><td> 1.9</td><td>9.4</td><td>12.5</td><td> 9.7</td><td>9.3</td><td>6.4</td></tr>\n",
       "\t<tr><td>7.65</td><td>6.7</td><td>4.4</td><td> 0.1</td><td>7.4</td><td> 9.3</td><td>14.6</td><td>10.1</td><td> 5.7</td><td> NaN</td><td>⋯</td><td>8.4</td><td>5.9</td><td>8.6</td><td> 9.9</td><td> 0.1</td><td>9.3</td><td>13.0</td><td>10.1</td><td>9.2</td><td>4.9</td></tr>\n",
       "\t<tr><td>8.10</td><td>6.6</td><td>4.2</td><td> NaN</td><td>6.6</td><td> 9.8</td><td>13.3</td><td> 9.3</td><td> 2.6</td><td> 4.2</td><td>⋯</td><td>7.5</td><td>5.7</td><td>8.2</td><td>10.6</td><td> 0.3</td><td>9.9</td><td>12.2</td><td>10.4</td><td>9.6</td><td>5.0</td></tr>\n",
       "\t<tr><td>8.20</td><td>6.3</td><td>1.6</td><td> NaN</td><td>7.1</td><td> 6.2</td><td>13.4</td><td> 9.5</td><td> 5.1</td><td> NaN</td><td>⋯</td><td>7.9</td><td>5.8</td><td>8.8</td><td>10.1</td><td>-0.7</td><td>9.1</td><td>12.9</td><td> 9.7</td><td>8.9</td><td>5.6</td></tr>\n",
       "\t<tr><td>8.20</td><td>6.5</td><td>6.8</td><td> 1.7</td><td>6.8</td><td> 3.8</td><td>14.2</td><td> 8.4</td><td> 6.9</td><td> 2.5</td><td>⋯</td><td>9.0</td><td>5.8</td><td>8.7</td><td> 9.9</td><td> 0.1</td><td>9.5</td><td>12.6</td><td>10.6</td><td>9.8</td><td>5.1</td></tr>\n",
       "\t<tr><td>7.55</td><td>5.7</td><td>6.0</td><td> 0.4</td><td>8.0</td><td> 2.3</td><td>13.9</td><td> 8.4</td><td> 4.3</td><td> 1.4</td><td>⋯</td><td>8.6</td><td>6.4</td><td>9.4</td><td> 9.8</td><td>-1.2</td><td>8.9</td><td>12.7</td><td>10.0</td><td>8.8</td><td>4.6</td></tr>\n",
       "\t<tr><td>8.45</td><td>6.3</td><td>NaN</td><td>-1.5</td><td>5.8</td><td>10.1</td><td>11.9</td><td> 7.9</td><td>-0.5</td><td> NaN</td><td>⋯</td><td>9.2</td><td>5.6</td><td>9.0</td><td>10.7</td><td> 2.0</td><td>8.3</td><td>12.5</td><td> 9.9</td><td>8.6</td><td>3.6</td></tr>\n",
       "</tbody>\n",
       "</table>\n"
      ],
      "text/latex": [
       "A data.table: 10 × 18465\n",
       "\\begin{tabular}{lllllllllllllllllllll}\n",
       " SLC35E2 & A1BG & A1CF & A2BP1 & A2LD1 & A2ML1 & A2M & A4GALT & A4GNT & AAA1 & ⋯ & ZWINT & ZXDA & ZXDB & ZXDC & ZYG11A & ZYG11B & ZYX & ZZEF1 & ZZZ3 & psiTPTE22\\\\\n",
       " <dbl> & <dbl> & <dbl> & <dbl> & <dbl> & <dbl> & <dbl> & <dbl> & <dbl> & <dbl> & ⋯ & <dbl> & <dbl> & <dbl> & <dbl> & <dbl> & <dbl> & <dbl> & <dbl> & <dbl> & <dbl>\\\\\n",
       "\\hline\n",
       "\t 7.45 & 6.4 & 4.7 & -1.0 & 7.5 &  6.4 & 14.3 & 10.6 &  8.8 &  1.0 & ⋯ & 8.6 & 6.2 & 9.0 &  9.9 &  NaN & 9.2 & 12.9 & 10.1 & 9.3 & 5.5\\\\\n",
       "\t 8.10 & 5.8 & 5.7 &  1.1 & 6.8 &  NaN & 14.0 & 10.2 &  5.6 & -1.2 & ⋯ & 8.8 & 5.8 & 8.5 & 10.0 &  NaN & 9.3 & 12.4 &  9.8 & 8.9 & 4.5\\\\\n",
       "\t 7.20 & 6.4 & 3.0 &  NaN & 7.3 & 10.8 & 13.1 & 10.1 &  0.2 &  0.2 & ⋯ & 9.1 & 3.9 & 8.1 & 10.0 & -0.8 & 9.4 & 13.5 &  9.8 & 9.2 & 4.7\\\\\n",
       "\t 8.00 & 5.8 & 5.1 &  NaN & 7.5 &  4.1 & 13.8 &  8.6 &  3.2 & -0.1 & ⋯ & 8.9 & 5.2 & 8.5 &  9.7 &  1.9 & 9.4 & 12.5 &  9.7 & 9.3 & 6.4\\\\\n",
       "\t 7.65 & 6.7 & 4.4 &  0.1 & 7.4 &  9.3 & 14.6 & 10.1 &  5.7 &  NaN & ⋯ & 8.4 & 5.9 & 8.6 &  9.9 &  0.1 & 9.3 & 13.0 & 10.1 & 9.2 & 4.9\\\\\n",
       "\t 8.10 & 6.6 & 4.2 &  NaN & 6.6 &  9.8 & 13.3 &  9.3 &  2.6 &  4.2 & ⋯ & 7.5 & 5.7 & 8.2 & 10.6 &  0.3 & 9.9 & 12.2 & 10.4 & 9.6 & 5.0\\\\\n",
       "\t 8.20 & 6.3 & 1.6 &  NaN & 7.1 &  6.2 & 13.4 &  9.5 &  5.1 &  NaN & ⋯ & 7.9 & 5.8 & 8.8 & 10.1 & -0.7 & 9.1 & 12.9 &  9.7 & 8.9 & 5.6\\\\\n",
       "\t 8.20 & 6.5 & 6.8 &  1.7 & 6.8 &  3.8 & 14.2 &  8.4 &  6.9 &  2.5 & ⋯ & 9.0 & 5.8 & 8.7 &  9.9 &  0.1 & 9.5 & 12.6 & 10.6 & 9.8 & 5.1\\\\\n",
       "\t 7.55 & 5.7 & 6.0 &  0.4 & 8.0 &  2.3 & 13.9 &  8.4 &  4.3 &  1.4 & ⋯ & 8.6 & 6.4 & 9.4 &  9.8 & -1.2 & 8.9 & 12.7 & 10.0 & 8.8 & 4.6\\\\\n",
       "\t 8.45 & 6.3 & NaN & -1.5 & 5.8 & 10.1 & 11.9 &  7.9 & -0.5 &  NaN & ⋯ & 9.2 & 5.6 & 9.0 & 10.7 &  2.0 & 8.3 & 12.5 &  9.9 & 8.6 & 3.6\\\\\n",
       "\\end{tabular}\n"
      ],
      "text/markdown": [
       "\n",
       "A data.table: 10 × 18465\n",
       "\n",
       "| SLC35E2 &lt;dbl&gt; | A1BG &lt;dbl&gt; | A1CF &lt;dbl&gt; | A2BP1 &lt;dbl&gt; | A2LD1 &lt;dbl&gt; | A2ML1 &lt;dbl&gt; | A2M &lt;dbl&gt; | A4GALT &lt;dbl&gt; | A4GNT &lt;dbl&gt; | AAA1 &lt;dbl&gt; | ⋯ ⋯ | ZWINT &lt;dbl&gt; | ZXDA &lt;dbl&gt; | ZXDB &lt;dbl&gt; | ZXDC &lt;dbl&gt; | ZYG11A &lt;dbl&gt; | ZYG11B &lt;dbl&gt; | ZYX &lt;dbl&gt; | ZZEF1 &lt;dbl&gt; | ZZZ3 &lt;dbl&gt; | psiTPTE22 &lt;dbl&gt; |\n",
       "|---|---|---|---|---|---|---|---|---|---|---|---|---|---|---|---|---|---|---|---|---|\n",
       "| 7.45 | 6.4 | 4.7 | -1.0 | 7.5 |  6.4 | 14.3 | 10.6 |  8.8 |  1.0 | ⋯ | 8.6 | 6.2 | 9.0 |  9.9 |  NaN | 9.2 | 12.9 | 10.1 | 9.3 | 5.5 |\n",
       "| 8.10 | 5.8 | 5.7 |  1.1 | 6.8 |  NaN | 14.0 | 10.2 |  5.6 | -1.2 | ⋯ | 8.8 | 5.8 | 8.5 | 10.0 |  NaN | 9.3 | 12.4 |  9.8 | 8.9 | 4.5 |\n",
       "| 7.20 | 6.4 | 3.0 |  NaN | 7.3 | 10.8 | 13.1 | 10.1 |  0.2 |  0.2 | ⋯ | 9.1 | 3.9 | 8.1 | 10.0 | -0.8 | 9.4 | 13.5 |  9.8 | 9.2 | 4.7 |\n",
       "| 8.00 | 5.8 | 5.1 |  NaN | 7.5 |  4.1 | 13.8 |  8.6 |  3.2 | -0.1 | ⋯ | 8.9 | 5.2 | 8.5 |  9.7 |  1.9 | 9.4 | 12.5 |  9.7 | 9.3 | 6.4 |\n",
       "| 7.65 | 6.7 | 4.4 |  0.1 | 7.4 |  9.3 | 14.6 | 10.1 |  5.7 |  NaN | ⋯ | 8.4 | 5.9 | 8.6 |  9.9 |  0.1 | 9.3 | 13.0 | 10.1 | 9.2 | 4.9 |\n",
       "| 8.10 | 6.6 | 4.2 |  NaN | 6.6 |  9.8 | 13.3 |  9.3 |  2.6 |  4.2 | ⋯ | 7.5 | 5.7 | 8.2 | 10.6 |  0.3 | 9.9 | 12.2 | 10.4 | 9.6 | 5.0 |\n",
       "| 8.20 | 6.3 | 1.6 |  NaN | 7.1 |  6.2 | 13.4 |  9.5 |  5.1 |  NaN | ⋯ | 7.9 | 5.8 | 8.8 | 10.1 | -0.7 | 9.1 | 12.9 |  9.7 | 8.9 | 5.6 |\n",
       "| 8.20 | 6.5 | 6.8 |  1.7 | 6.8 |  3.8 | 14.2 |  8.4 |  6.9 |  2.5 | ⋯ | 9.0 | 5.8 | 8.7 |  9.9 |  0.1 | 9.5 | 12.6 | 10.6 | 9.8 | 5.1 |\n",
       "| 7.55 | 5.7 | 6.0 |  0.4 | 8.0 |  2.3 | 13.9 |  8.4 |  4.3 |  1.4 | ⋯ | 8.6 | 6.4 | 9.4 |  9.8 | -1.2 | 8.9 | 12.7 | 10.0 | 8.8 | 4.6 |\n",
       "| 8.45 | 6.3 | NaN | -1.5 | 5.8 | 10.1 | 11.9 |  7.9 | -0.5 |  NaN | ⋯ | 9.2 | 5.6 | 9.0 | 10.7 |  2.0 | 8.3 | 12.5 |  9.9 | 8.6 | 3.6 |\n",
       "\n"
      ],
      "text/plain": [
       "   SLC35E2 A1BG A1CF A2BP1 A2LD1 A2ML1 A2M  A4GALT A4GNT AAA1 ⋯ ZWINT ZXDA ZXDB\n",
       "1  7.45    6.4  4.7  -1.0  7.5    6.4  14.3 10.6    8.8   1.0 ⋯ 8.6   6.2  9.0 \n",
       "2  8.10    5.8  5.7   1.1  6.8    NaN  14.0 10.2    5.6  -1.2 ⋯ 8.8   5.8  8.5 \n",
       "3  7.20    6.4  3.0   NaN  7.3   10.8  13.1 10.1    0.2   0.2 ⋯ 9.1   3.9  8.1 \n",
       "4  8.00    5.8  5.1   NaN  7.5    4.1  13.8  8.6    3.2  -0.1 ⋯ 8.9   5.2  8.5 \n",
       "5  7.65    6.7  4.4   0.1  7.4    9.3  14.6 10.1    5.7   NaN ⋯ 8.4   5.9  8.6 \n",
       "6  8.10    6.6  4.2   NaN  6.6    9.8  13.3  9.3    2.6   4.2 ⋯ 7.5   5.7  8.2 \n",
       "7  8.20    6.3  1.6   NaN  7.1    6.2  13.4  9.5    5.1   NaN ⋯ 7.9   5.8  8.8 \n",
       "8  8.20    6.5  6.8   1.7  6.8    3.8  14.2  8.4    6.9   2.5 ⋯ 9.0   5.8  8.7 \n",
       "9  7.55    5.7  6.0   0.4  8.0    2.3  13.9  8.4    4.3   1.4 ⋯ 8.6   6.4  9.4 \n",
       "10 8.45    6.3  NaN  -1.5  5.8   10.1  11.9  7.9   -0.5   NaN ⋯ 9.2   5.6  9.0 \n",
       "   ZXDC ZYG11A ZYG11B ZYX  ZZEF1 ZZZ3 psiTPTE22\n",
       "1   9.9  NaN   9.2    12.9 10.1  9.3  5.5      \n",
       "2  10.0  NaN   9.3    12.4  9.8  8.9  4.5      \n",
       "3  10.0 -0.8   9.4    13.5  9.8  9.2  4.7      \n",
       "4   9.7  1.9   9.4    12.5  9.7  9.3  6.4      \n",
       "5   9.9  0.1   9.3    13.0 10.1  9.2  4.9      \n",
       "6  10.6  0.3   9.9    12.2 10.4  9.6  5.0      \n",
       "7  10.1 -0.7   9.1    12.9  9.7  8.9  5.6      \n",
       "8   9.9  0.1   9.5    12.6 10.6  9.8  5.1      \n",
       "9   9.8 -1.2   8.9    12.7 10.0  8.8  4.6      \n",
       "10 10.7  2.0   8.3    12.5  9.9  8.6  3.6      "
      ]
     },
     "metadata": {},
     "output_type": "display_data"
    }
   ],
   "source": [
    "# turn the whole dataset into floats\n",
    "head(t_expression_data,10)"
   ]
  },
  {
   "cell_type": "markdown",
   "metadata": {},
   "source": [
    "### Gene expression EDA \n",
    "\n",
    "To check the gene expression data for obvious data error, we plot the histograms for the minima and maximas for each gene. From these plots we see that the expression values are within biologically reasonable ranges."
   ]
  },
  {
   "cell_type": "code",
   "execution_count": 25,
   "metadata": {},
   "outputs": [
    {
     "name": "stderr",
     "output_type": "stream",
     "text": [
      "`stat_bin()` using `bins = 30`. Pick better value with `binwidth`.\n",
      "\n",
      "`stat_bin()` using `bins = 30`. Pick better value with `binwidth`.\n",
      "\n"
     ]
    },
    {
     "data": {
      "image/png": "[encoded data removed]",
      "text/plain": [
       "plot without title"
      ]
     },
     "metadata": {
      "image/png": {
       "height": 420,
       "width": 420
      }
     },
     "output_type": "display_data"
    },
    {
     "name": "stderr",
     "output_type": "stream",
     "text": [
      "`stat_bin()` using `bins = 30`. Pick better value with `binwidth`.\n",
      "\n"
     ]
    },
    {
     "data": {
      "image/png": "[encoded data removed]",
      "text/plain": [
       "plot without title"
      ]
     },
     "metadata": {
      "image/png": {
       "height": 420,
       "width": 420
      }
     },
     "output_type": "display_data"
    },
    {
     "name": "stdout",
     "output_type": "stream",
     "text": [
      "[1] 4.284739\n"
     ]
    },
    {
     "data": {
      "image/png": "[encoded data removed]",
      "text/plain": [
       "plot without title"
      ]
     },
     "metadata": {
      "image/png": {
       "height": 420,
       "width": 420
      }
     },
     "output_type": "display_data"
    }
   ],
   "source": [
    "expression_max <- sapply(t_expression_data, max, na.rm=T)\n",
    "qplot(expression_max, main=\"Maximum gene expression values\")\n",
    "\n",
    "expression_mean <- sapply(t_expression_data, mean, na.rm=T)\n",
    "qplot(expression_mean, main=\"Mean gene expression values\")\n",
    "\n",
    "expression_min <- sapply(t_expression_data, min, na.rm=T)\n",
    "qplot(expression_min, main=\"Minimum gene expression values\")\n",
    "\n",
    "print(mean(expression_min))"
   ]
  },
  {
   "cell_type": "markdown",
   "metadata": {},
   "source": [
    "### Grubbs Test: Check for outliers by Histograms visualization."
   ]
  },
  {
   "cell_type": "code",
   "execution_count": null,
   "metadata": {},
   "outputs": [],
   "source": [
    "outlier_fun <- function(df){\n",
    "  for (columnindex in 1:ncol(df)){\n",
    "      hist(data.matrix(df[,..columnindex]))\n",
    "      print(grubbs.test(data.matrix(df[,..columnindex])))\n",
    "  }\n",
    "}\n",
    "\n",
    "outlier_fun(t_expression_data)\n",
    "# if the p-value is less than the chosen significance threshold (generally α = 0.05) then the \n",
    "# null hypothesis is rejected and we will conclude that the lowest/highest value is an outlier.\n",
    "\n",
    "# All the outliers seem to be in a plausible range (look at histogram) --> we leave\n",
    "# them in the data set"
   ]
  },
  {
   "cell_type": "markdown",
   "metadata": {
    "collapsed": true
   },
   "source": [
    "#### From the histograms above we can see that ..."
   ]
  },
  {
   "cell_type": "markdown",
   "metadata": {},
   "source": [
    "\n",
    "## \n",
    "## Patient meta data histograms "
   ]
  },
  {
   "cell_type": "markdown",
   "metadata": {},
   "source": [
    "### Numeric columns"
   ]
  },
  {
   "cell_type": "code",
   "execution_count": 26,
   "metadata": {},
   "outputs": [
    {
     "data": {
      "text/html": [
       "'28 numeric columns'"
      ],
      "text/latex": [
       "'28 numeric columns'"
      ],
      "text/markdown": [
       "'28 numeric columns'"
      ],
      "text/plain": [
       "[1] \"28 numeric columns\""
      ]
     },
     "metadata": {},
     "output_type": "display_data"
    }
   ],
   "source": [
    "t_patient_data <- t_patient_data %>%\n",
    "    mutate_all(type.convert) %>%\n",
    "    mutate_if(is.factor, as.character)\n",
    "\n",
    "# only numeric values\n",
    "df_patient_num <-  t_patient_data %>% select_if(is.numeric)\n",
    "\n",
    "sprintf(\"%d numeric columns\",ncol(df_patient_num))"
   ]
  },
  {
   "cell_type": "code",
   "execution_count": 27,
   "metadata": {},
   "outputs": [
    {
     "name": "stderr",
     "output_type": "stream",
     "text": [
      "Warning message:\n",
      "“Removed 508 rows containing non-finite values (stat_bin).”\n"
     ]
    },
    {
     "data": {
      "image/png": "[encoded data removed]",
      "text/plain": [
       "plot without title"
      ]
     },
     "metadata": {
      "image/png": {
       "height": 420,
       "width": 420
      }
     },
     "output_type": "display_data"
    }
   ],
   "source": [
    "ggplot(gather(df_patient_num[,1:9], cols, value), aes(x = value)) + \n",
    "       geom_histogram(binwidth = 1) + facet_wrap(.~cols, scales = \"free\") "
   ]
  },
  {
   "cell_type": "code",
   "execution_count": 28,
   "metadata": {},
   "outputs": [
    {
     "name": "stderr",
     "output_type": "stream",
     "text": [
      "Warning message:\n",
      "“Removed 342 rows containing non-finite values (stat_bin).”\n"
     ]
    },
    {
     "data": {
      "image/png": "[encoded data removed]",
      "text/plain": [
       "plot without title"
      ]
     },
     "metadata": {
      "image/png": {
       "height": 420,
       "width": 420
      }
     },
     "output_type": "display_data"
    }
   ],
   "source": [
    "ggplot(gather(df_patient_num[,10:18], cols, value), aes(x = value)) + \n",
    "       geom_histogram(binwidth = 1) + facet_wrap(.~cols, scales = \"free\") "
   ]
  },
  {
   "cell_type": "code",
   "execution_count": 29,
   "metadata": {},
   "outputs": [
    {
     "name": "stderr",
     "output_type": "stream",
     "text": [
      "Warning message:\n",
      "“Removed 555 rows containing non-finite values (stat_bin).”\n"
     ]
    },
    {
     "data": {
      "image/png": "[encoded data removed]",
      "text/plain": [
       "plot without title"
      ]
     },
     "metadata": {
      "image/png": {
       "height": 420,
       "width": 420
      }
     },
     "output_type": "display_data"
    }
   ],
   "source": [
    "ggplot(gather(df_patient_num[,19:28], cols, value), aes(x = value)) + \n",
    "       geom_histogram(binwidth = 1) + facet_wrap(.~cols, scales = \"free\") "
   ]
  },
  {
   "cell_type": "markdown",
   "metadata": {},
   "source": [
    "\n",
    "\n",
    "## \n",
    "## Correlations - Pearson - Patients Data"
   ]
  },
  {
   "cell_type": "code",
   "execution_count": 32,
   "metadata": {},
   "outputs": [
    {
     "name": "stderr",
     "output_type": "stream",
     "text": [
      "Warning message in sqrt(npair - 2):\n",
      "“NaNs produced”\n",
      "Warning message in cor(as.matrix(df_patient_num), use = \"pairwise.complete.obs\"):\n",
      "“the standard deviation is zero”\n"
     ]
    },
    {
     "data": {
      "text/html": [
       "<table>\n",
       "<caption>A matrix: 5 × 28 of type dbl</caption>\n",
       "<thead>\n",
       "\t<tr><th></th><th scope=col>mRNAseq_cluster</th><th scope=col>days_to_death</th><th scope=col>days_to_last_followup</th><th scope=col>age_at_initial_pathologic_diagnosis</th><th scope=col>amount_of_alcohol_consumption_per_day</th><th scope=col>day_of_dcc_upload</th><th scope=col>day_of_form_completion</th><th scope=col>days_to_birth</th><th scope=col>days_to_diabetes_onset</th><th scope=col>days_to_index</th><th scope=col>⋯</th><th scope=col>number_of_lymphnodes_positive_by_he</th><th scope=col>number_of_lymphnodes_positive_by_ihc</th><th scope=col>number_pack_years_smoked</th><th scope=col>stopped_smoking_year</th><th scope=col>system_version</th><th scope=col>tobacco_smoking_history</th><th scope=col>year_of_dcc_upload</th><th scope=col>year_of_form_completion</th><th scope=col>year_of_initial_pathologic_diagnosis</th><th scope=col>year_of_tobacco_smoking_onset</th></tr>\n",
       "</thead>\n",
       "<tbody>\n",
       "\t<tr><th scope=row>mRNAseq_cluster</th><td> 1.00000000</td><td> 0.19566185</td><td>-0.2485859</td><td>-0.05302266</td><td>-0.22478938</td><td>0</td><td>-0.04774432</td><td> 0.05181841</td><td> 0.5368604</td><td>0</td><td>⋯</td><td> 0.13340154</td><td>0</td><td>-0.05610128</td><td> 0.09769757</td><td>-0.06994589</td><td> 0.06950063</td><td>0</td><td>-0.11297992</td><td> 0.04793358</td><td> 0.127098028</td></tr>\n",
       "\t<tr><th scope=row>days_to_death</th><td> 0.19566185</td><td> 1.00000000</td><td> 0.0000000</td><td>-0.05798936</td><td>-0.33082062</td><td>0</td><td>-0.12529848</td><td> 0.05706725</td><td>-0.7325000</td><td>0</td><td>⋯</td><td>-0.14506504</td><td>0</td><td>-0.03603833</td><td> 0.16798827</td><td>-0.31716982</td><td> 0.17013852</td><td>0</td><td> 0.05143176</td><td>-0.57039285</td><td> 0.058129242</td></tr>\n",
       "\t<tr><th scope=row>days_to_last_followup</th><td>-0.24858588</td><td> 0.00000000</td><td> 1.0000000</td><td>-0.27138071</td><td> 0.01645460</td><td>0</td><td> 0.26085024</td><td> 0.26978703</td><td>-0.1022748</td><td>0</td><td>⋯</td><td>-0.03707017</td><td>0</td><td> 0.24780720</td><td> 0.14299741</td><td>-0.65341490</td><td> 0.05108127</td><td>0</td><td> 0.15500026</td><td>-0.71743794</td><td>-0.004843835</td></tr>\n",
       "\t<tr><th scope=row>age_at_initial_pathologic_diagnosis</th><td>-0.05302266</td><td>-0.05798936</td><td>-0.2713807</td><td> 1.00000000</td><td>-0.02386114</td><td>0</td><td> 0.04946877</td><td>-0.99965938</td><td>-0.1354684</td><td>0</td><td>⋯</td><td>-0.03106103</td><td>0</td><td>-0.07286694</td><td>-0.51431132</td><td> 0.16219081</td><td>-0.03124219</td><td>0</td><td> 0.01208075</td><td> 0.10443294</td><td>-0.712470516</td></tr>\n",
       "\t<tr><th scope=row>amount_of_alcohol_consumption_per_day</th><td>-0.22478938</td><td>-0.33082062</td><td> 0.0164546</td><td>-0.02386114</td><td> 1.00000000</td><td>0</td><td> 0.18573914</td><td> 0.02553868</td><td> 0.2970082</td><td>0</td><td>⋯</td><td> 0.26232743</td><td>0</td><td> 0.27597172</td><td>-0.04660656</td><td> 0.08624070</td><td>-0.08658153</td><td>0</td><td> 0.08496278</td><td>-0.08622419</td><td>-0.335967310</td></tr>\n",
       "</tbody>\n",
       "</table>\n"
      ],
      "text/latex": [
       "A matrix: 5 × 28 of type dbl\n",
       "\\begin{tabular}{r|lllllllllllllllllllll}\n",
       "  & mRNAseq\\_cluster & days\\_to\\_death & days\\_to\\_last\\_followup & age\\_at\\_initial\\_pathologic\\_diagnosis & amount\\_of\\_alcohol\\_consumption\\_per\\_day & day\\_of\\_dcc\\_upload & day\\_of\\_form\\_completion & days\\_to\\_birth & days\\_to\\_diabetes\\_onset & days\\_to\\_index & ⋯ & number\\_of\\_lymphnodes\\_positive\\_by\\_he & number\\_of\\_lymphnodes\\_positive\\_by\\_ihc & number\\_pack\\_years\\_smoked & stopped\\_smoking\\_year & system\\_version & tobacco\\_smoking\\_history & year\\_of\\_dcc\\_upload & year\\_of\\_form\\_completion & year\\_of\\_initial\\_pathologic\\_diagnosis & year\\_of\\_tobacco\\_smoking\\_onset\\\\\n",
       "\\hline\n",
       "\tmRNAseq\\_cluster &  1.00000000 &  0.19566185 & -0.2485859 & -0.05302266 & -0.22478938 & 0 & -0.04774432 &  0.05181841 &  0.5368604 & 0 & ⋯ &  0.13340154 & 0 & -0.05610128 &  0.09769757 & -0.06994589 &  0.06950063 & 0 & -0.11297992 &  0.04793358 &  0.127098028\\\\\n",
       "\tdays\\_to\\_death &  0.19566185 &  1.00000000 &  0.0000000 & -0.05798936 & -0.33082062 & 0 & -0.12529848 &  0.05706725 & -0.7325000 & 0 & ⋯ & -0.14506504 & 0 & -0.03603833 &  0.16798827 & -0.31716982 &  0.17013852 & 0 &  0.05143176 & -0.57039285 &  0.058129242\\\\\n",
       "\tdays\\_to\\_last\\_followup & -0.24858588 &  0.00000000 &  1.0000000 & -0.27138071 &  0.01645460 & 0 &  0.26085024 &  0.26978703 & -0.1022748 & 0 & ⋯ & -0.03707017 & 0 &  0.24780720 &  0.14299741 & -0.65341490 &  0.05108127 & 0 &  0.15500026 & -0.71743794 & -0.004843835\\\\\n",
       "\tage\\_at\\_initial\\_pathologic\\_diagnosis & -0.05302266 & -0.05798936 & -0.2713807 &  1.00000000 & -0.02386114 & 0 &  0.04946877 & -0.99965938 & -0.1354684 & 0 & ⋯ & -0.03106103 & 0 & -0.07286694 & -0.51431132 &  0.16219081 & -0.03124219 & 0 &  0.01208075 &  0.10443294 & -0.712470516\\\\\n",
       "\tamount\\_of\\_alcohol\\_consumption\\_per\\_day & -0.22478938 & -0.33082062 &  0.0164546 & -0.02386114 &  1.00000000 & 0 &  0.18573914 &  0.02553868 &  0.2970082 & 0 & ⋯ &  0.26232743 & 0 &  0.27597172 & -0.04660656 &  0.08624070 & -0.08658153 & 0 &  0.08496278 & -0.08622419 & -0.335967310\\\\\n",
       "\\end{tabular}\n"
      ],
      "text/markdown": [
       "\n",
       "A matrix: 5 × 28 of type dbl\n",
       "\n",
       "| <!--/--> | mRNAseq_cluster | days_to_death | days_to_last_followup | age_at_initial_pathologic_diagnosis | amount_of_alcohol_consumption_per_day | day_of_dcc_upload | day_of_form_completion | days_to_birth | days_to_diabetes_onset | days_to_index | ⋯ | number_of_lymphnodes_positive_by_he | number_of_lymphnodes_positive_by_ihc | number_pack_years_smoked | stopped_smoking_year | system_version | tobacco_smoking_history | year_of_dcc_upload | year_of_form_completion | year_of_initial_pathologic_diagnosis | year_of_tobacco_smoking_onset |\n",
       "|---|---|---|---|---|---|---|---|---|---|---|---|---|---|---|---|---|---|---|---|---|---|\n",
       "| mRNAseq_cluster |  1.00000000 |  0.19566185 | -0.2485859 | -0.05302266 | -0.22478938 | 0 | -0.04774432 |  0.05181841 |  0.5368604 | 0 | ⋯ |  0.13340154 | 0 | -0.05610128 |  0.09769757 | -0.06994589 |  0.06950063 | 0 | -0.11297992 |  0.04793358 |  0.127098028 |\n",
       "| days_to_death |  0.19566185 |  1.00000000 |  0.0000000 | -0.05798936 | -0.33082062 | 0 | -0.12529848 |  0.05706725 | -0.7325000 | 0 | ⋯ | -0.14506504 | 0 | -0.03603833 |  0.16798827 | -0.31716982 |  0.17013852 | 0 |  0.05143176 | -0.57039285 |  0.058129242 |\n",
       "| days_to_last_followup | -0.24858588 |  0.00000000 |  1.0000000 | -0.27138071 |  0.01645460 | 0 |  0.26085024 |  0.26978703 | -0.1022748 | 0 | ⋯ | -0.03707017 | 0 |  0.24780720 |  0.14299741 | -0.65341490 |  0.05108127 | 0 |  0.15500026 | -0.71743794 | -0.004843835 |\n",
       "| age_at_initial_pathologic_diagnosis | -0.05302266 | -0.05798936 | -0.2713807 |  1.00000000 | -0.02386114 | 0 |  0.04946877 | -0.99965938 | -0.1354684 | 0 | ⋯ | -0.03106103 | 0 | -0.07286694 | -0.51431132 |  0.16219081 | -0.03124219 | 0 |  0.01208075 |  0.10443294 | -0.712470516 |\n",
       "| amount_of_alcohol_consumption_per_day | -0.22478938 | -0.33082062 |  0.0164546 | -0.02386114 |  1.00000000 | 0 |  0.18573914 |  0.02553868 |  0.2970082 | 0 | ⋯ |  0.26232743 | 0 |  0.27597172 | -0.04660656 |  0.08624070 | -0.08658153 | 0 |  0.08496278 | -0.08622419 | -0.335967310 |\n",
       "\n"
      ],
      "text/plain": [
       "                                      mRNAseq_cluster days_to_death\n",
       "mRNAseq_cluster                        1.00000000      0.19566185  \n",
       "days_to_death                          0.19566185      1.00000000  \n",
       "days_to_last_followup                 -0.24858588      0.00000000  \n",
       "age_at_initial_pathologic_diagnosis   -0.05302266     -0.05798936  \n",
       "amount_of_alcohol_consumption_per_day -0.22478938     -0.33082062  \n",
       "                                      days_to_last_followup\n",
       "mRNAseq_cluster                       -0.2485859           \n",
       "days_to_death                          0.0000000           \n",
       "days_to_last_followup                  1.0000000           \n",
       "age_at_initial_pathologic_diagnosis   -0.2713807           \n",
       "amount_of_alcohol_consumption_per_day  0.0164546           \n",
       "                                      age_at_initial_pathologic_diagnosis\n",
       "mRNAseq_cluster                       -0.05302266                        \n",
       "days_to_death                         -0.05798936                        \n",
       "days_to_last_followup                 -0.27138071                        \n",
       "age_at_initial_pathologic_diagnosis    1.00000000                        \n",
       "amount_of_alcohol_consumption_per_day -0.02386114                        \n",
       "                                      amount_of_alcohol_consumption_per_day\n",
       "mRNAseq_cluster                       -0.22478938                          \n",
       "days_to_death                         -0.33082062                          \n",
       "days_to_last_followup                  0.01645460                          \n",
       "age_at_initial_pathologic_diagnosis   -0.02386114                          \n",
       "amount_of_alcohol_consumption_per_day  1.00000000                          \n",
       "                                      day_of_dcc_upload day_of_form_completion\n",
       "mRNAseq_cluster                       0                 -0.04774432           \n",
       "days_to_death                         0                 -0.12529848           \n",
       "days_to_last_followup                 0                  0.26085024           \n",
       "age_at_initial_pathologic_diagnosis   0                  0.04946877           \n",
       "amount_of_alcohol_consumption_per_day 0                  0.18573914           \n",
       "                                      days_to_birth days_to_diabetes_onset\n",
       "mRNAseq_cluster                        0.05181841    0.5368604            \n",
       "days_to_death                          0.05706725   -0.7325000            \n",
       "days_to_last_followup                  0.26978703   -0.1022748            \n",
       "age_at_initial_pathologic_diagnosis   -0.99965938   -0.1354684            \n",
       "amount_of_alcohol_consumption_per_day  0.02553868    0.2970082            \n",
       "                                      days_to_index ⋯\n",
       "mRNAseq_cluster                       0             ⋯\n",
       "days_to_death                         0             ⋯\n",
       "days_to_last_followup                 0             ⋯\n",
       "age_at_initial_pathologic_diagnosis   0             ⋯\n",
       "amount_of_alcohol_consumption_per_day 0             ⋯\n",
       "                                      number_of_lymphnodes_positive_by_he\n",
       "mRNAseq_cluster                        0.13340154                        \n",
       "days_to_death                         -0.14506504                        \n",
       "days_to_last_followup                 -0.03707017                        \n",
       "age_at_initial_pathologic_diagnosis   -0.03106103                        \n",
       "amount_of_alcohol_consumption_per_day  0.26232743                        \n",
       "                                      number_of_lymphnodes_positive_by_ihc\n",
       "mRNAseq_cluster                       0                                   \n",
       "days_to_death                         0                                   \n",
       "days_to_last_followup                 0                                   \n",
       "age_at_initial_pathologic_diagnosis   0                                   \n",
       "amount_of_alcohol_consumption_per_day 0                                   \n",
       "                                      number_pack_years_smoked\n",
       "mRNAseq_cluster                       -0.05610128             \n",
       "days_to_death                         -0.03603833             \n",
       "days_to_last_followup                  0.24780720             \n",
       "age_at_initial_pathologic_diagnosis   -0.07286694             \n",
       "amount_of_alcohol_consumption_per_day  0.27597172             \n",
       "                                      stopped_smoking_year system_version\n",
       "mRNAseq_cluster                        0.09769757          -0.06994589   \n",
       "days_to_death                          0.16798827          -0.31716982   \n",
       "days_to_last_followup                  0.14299741          -0.65341490   \n",
       "age_at_initial_pathologic_diagnosis   -0.51431132           0.16219081   \n",
       "amount_of_alcohol_consumption_per_day -0.04660656           0.08624070   \n",
       "                                      tobacco_smoking_history\n",
       "mRNAseq_cluster                        0.06950063            \n",
       "days_to_death                          0.17013852            \n",
       "days_to_last_followup                  0.05108127            \n",
       "age_at_initial_pathologic_diagnosis   -0.03124219            \n",
       "amount_of_alcohol_consumption_per_day -0.08658153            \n",
       "                                      year_of_dcc_upload\n",
       "mRNAseq_cluster                       0                 \n",
       "days_to_death                         0                 \n",
       "days_to_last_followup                 0                 \n",
       "age_at_initial_pathologic_diagnosis   0                 \n",
       "amount_of_alcohol_consumption_per_day 0                 \n",
       "                                      year_of_form_completion\n",
       "mRNAseq_cluster                       -0.11297992            \n",
       "days_to_death                          0.05143176            \n",
       "days_to_last_followup                  0.15500026            \n",
       "age_at_initial_pathologic_diagnosis    0.01208075            \n",
       "amount_of_alcohol_consumption_per_day  0.08496278            \n",
       "                                      year_of_initial_pathologic_diagnosis\n",
       "mRNAseq_cluster                        0.04793358                         \n",
       "days_to_death                         -0.57039285                         \n",
       "days_to_last_followup                 -0.71743794                         \n",
       "age_at_initial_pathologic_diagnosis    0.10443294                         \n",
       "amount_of_alcohol_consumption_per_day -0.08622419                         \n",
       "                                      year_of_tobacco_smoking_onset\n",
       "mRNAseq_cluster                        0.127098028                 \n",
       "days_to_death                          0.058129242                 \n",
       "days_to_last_followup                 -0.004843835                 \n",
       "age_at_initial_pathologic_diagnosis   -0.712470516                 \n",
       "amount_of_alcohol_consumption_per_day -0.335967310                 "
      ]
     },
     "metadata": {},
     "output_type": "display_data"
    }
   ],
   "source": [
    "#install.packages(\"Hmisc\")\n",
    "#library(Hmisc)\n",
    "\n",
    "corrPatient <- rcorr(as.matrix(df_patient_num))\n",
    "\n",
    "#corrPatient_plot <- cor(as.matrix(df_patient_num), use=\"pairwise.complete.obs\")\n",
    "\n",
    "corrPatient_plot[is.na(corrPatient_plot)] <- 0\n",
    "\n",
    "head(corrPatient_plot,5) # NA Values transformed to 0. For plotting purposes."
   ]
  },
  {
   "cell_type": "code",
   "execution_count": 33,
   "metadata": {},
   "outputs": [],
   "source": [
    "# This function returns a Table with Rownames, Colnames, Correlation Coefficient, p-value\n",
    "flattenCorrMatrix <- function(cormat, pmat) {\n",
    "  ut <- upper.tri(cormat)\n",
    "  data.frame(\n",
    "    row = rownames(cormat)[row(cormat)[ut]],\n",
    "    column = rownames(cormat)[col(cormat)[ut]],\n",
    "    cor  =(cormat)[ut],\n",
    "    p = pmat[ut]\n",
    "    )\n",
    "}"
   ]
  },
  {
   "cell_type": "markdown",
   "metadata": {},
   "source": [
    "### Table of correlations"
   ]
  },
  {
   "cell_type": "code",
   "execution_count": null,
   "metadata": {},
   "outputs": [],
   "source": [
    "# Visualize Correlation - Table\n",
    "\n",
    "dffc <- flattenCorrMatrix(corrPatient2$r, corrPatient2$P)\n",
    "dffc"
   ]
  },
  {
   "cell_type": "markdown",
   "metadata": {},
   "source": [
    "### Plot"
   ]
  },
  {
   "cell_type": "code",
   "execution_count": null,
   "metadata": {},
   "outputs": [],
   "source": [
    "# WAY 1:\n",
    "heatmap(corrPatient)\n",
    "\n",
    "\n",
    "# WAY 2:\n",
    "#install.packages(\"corrplot\")\n",
    "library(corrplot)\n",
    "\n",
    "#options(repr.plot.width = 30, repr.plot.height = 30.75, repr.plot.res = 100)\n",
    "\n",
    "corrplot(corrPatient_plot, type = \"upper\", order = \"hclust\", \n",
    "         tl.col = \"black\", tl.srt = 45)"
   ]
  },
  {
   "cell_type": "markdown",
   "metadata": {},
   "source": [
    "#### The most correlated features in the Patient Dataset seem to be ..."
   ]
  },
  {
   "cell_type": "markdown",
   "metadata": {},
   "source": [
    "## Correlation - Pearson - Expression Dataset"
   ]
  },
  {
   "cell_type": "code",
   "execution_count": null,
   "metadata": {},
   "outputs": [],
   "source": [
    "# Perform PEARSON correlation\n",
    "corrExpression <- rcorr(as.matrix(t_expression_data))\n",
    "\n",
    "# Transform Data for easy plotting\n",
    "corrExpression_plot[is.na(corrPatient_plot)] <- 0\n",
    "head(corrExpression_plot,5)"
   ]
  },
  {
   "cell_type": "markdown",
   "metadata": {},
   "source": [
    "### Table of correlations"
   ]
  },
  {
   "cell_type": "code",
   "execution_count": null,
   "metadata": {},
   "outputs": [],
   "source": [
    "# Provide a Table of correlations with p-values\n",
    "dffcE <- flattenCorrMatrix(corrExpression$r, corrExpression$P)\n",
    "dffcE %>% filter(dffcE[4] >= 0.7 | dffcE[4] <= -0.7)"
   ]
  },
  {
   "cell_type": "markdown",
   "metadata": {},
   "source": [
    "### Plot"
   ]
  },
  {
   "cell_type": "code",
   "execution_count": null,
   "metadata": {},
   "outputs": [],
   "source": [
    "# WAY 1 / WAY 2 / WAY 3 ???\n",
    "\n",
    "# I would use only the most correlated ones from the previous table."
   ]
  },
  {
   "cell_type": "markdown",
   "metadata": {},
   "source": [
    "#### The most correlated features in the Expression Dataset seem to be ...\n"
   ]
  },
  {
   "cell_type": "markdown",
   "metadata": {},
   "source": [
    "### --------------------------------------------------------------------------------------------------------------------------------------------------------------"
   ]
  },
  {
   "cell_type": "markdown",
   "metadata": {},
   "source": [
    "## Clustering Analysis"
   ]
  },
  {
   "cell_type": "markdown",
   "metadata": {},
   "source": [
    "## References"
   ]
  },
  {
   "cell_type": "markdown",
   "metadata": {},
   "source": [
    "#### 01 - Baek, B., Lee, H. Prediction of survival and recurrence in patients with pancreatic cancer by integrating multi-omics data. Sci Rep 10, 18951 (2020). https://doi.org/10.1038/s41598-020-76025-1"
   ]
  }
 ],
 "metadata": {
  "kernelspec": {
   "display_name": "R",
   "language": "R",
   "name": "ir"
  },
  "language_info": {
   "codemirror_mode": "r",
   "file_extension": ".r",
   "mimetype": "text/x-r-source",
   "name": "R",
   "pygments_lexer": "r",
   "version": "3.6.3"
  },
  "metadata": {
   "interpreter": {
    "hash": "876d19a715e85b8ef53a5ec98972dca0ebbcb13bdd85ab57f8336ebb1c3be716"
   }
  }
 },
 "nbformat": 4,
 "nbformat_minor": 5
}
