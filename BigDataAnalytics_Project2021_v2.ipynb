{
 "cells": [
  {
   "cell_type": "markdown",
   "id": "b10cd070",
   "metadata": {},
   "source": [
    "# Big Data Analytics - Project - 2021"
   ]
  },
  {
   "cell_type": "markdown",
   "id": "bb7db9f4",
   "metadata": {},
   "source": [
    "### Authors: Kirill Holtmann, Lilith Feer, Luca Guenin, Mark Martori Lopez, Remo Hertig\n",
    "### Matrikel-Nr.: 16722423, 16720799, 16609521, 19759869, 13738323"
   ]
  },
  {
   "cell_type": "markdown",
   "id": "a62ea740",
   "metadata": {},
   "source": [
    "## Goal Brief\n",
    "#### The objective of this project is to learn the foundaments of Big Data Analysis and apply them to a big dataset. More precisely with the Cancer Prediction dataset we try to answer the following questions:\n",
    "#### - Is there a correlation between the genes expressed in the tumor cells? \n",
    "#### - Which clinical information is correlated with each other?\n",
    "#### - Which patients cluster together based on their gene expression?\n",
    "#### - Is there a difference in gene expression between the clusters?\n",
    "#### - Is there a difference in gene expression between living or dead patients?"
   ]
  },
  {
   "cell_type": "markdown",
   "id": "e8bf7bd2",
   "metadata": {},
   "source": [
    "# "
   ]
  },
  {
   "cell_type": "markdown",
   "id": "6e6e889d",
   "metadata": {},
   "source": [
    "## Packages & Libraries"
   ]
  },
  {
   "cell_type": "code",
   "execution_count": null,
   "id": "d317b519",
   "metadata": {},
   "outputs": [],
   "source": [
    "install.packages(\"BiocManager\")\n",
    "BiocManager::install(\"Rgraphviz\")\n",
    "install.packages(\"data.table\")\n",
    "install.packages(\"dplyr\")\n",
    "install.packages(\"tidyr\")\n",
    "BiocManager::install(\"outliers\")\n",
    "BiocManager::install(\"Hmisc\")\n",
    "#install.packages(\"Hmisc\")\n",
    "install.packages(\"Seurat\")\n",
    "BiocManager::install(\"limma\")\n",
    "install.packages(\"dplyr\")\n",
    "install.packages(\"corrplot\")"
   ]
  },
  {
   "cell_type": "code",
   "execution_count": null,
   "id": "08365c0c",
   "metadata": {},
   "outputs": [],
   "source": [
    "options(warn=0)\n",
    "library(ggplot2)\n",
    "library(data.table)\n",
    "library(dplyr) \n",
    "library(tidyr)\n",
    "library(Hmisc)\n",
    "library(corrplot)\n",
    "library(outliers)\n",
    "library(limma)\n",
    "library(Seurat)\n"
   ]
  },
  {
   "cell_type": "markdown",
   "id": "9e4f480b",
   "metadata": {},
   "source": [
    "## Dataset\n",
    "### Description:\n",
    "#### Pancreatic cancer arises from the abnormal and uncontrolled growth of cells in the tissues of the pancreas. Pancreatic adenocarcinoma (PAAD) is the most common type of pancreatic cancer, accounting for approximately 85% of all types of pancreatic cancer. This cancer is the twelfth most common cancer and the seventh leading cause of cancer-related death. [01]\n",
    "\n",
    "#### The dataset is split into 2 subsets. The patients subset consist of 123 rows (features) such as Adenocarcicoma_invasion or days_to_death and 183 columns ( pancreatic cancer tumor cells from patients ). The expression subset contains around 18.500 normalized RNA Sequencing reads for pancreatic cancer tumors as Rows and the same 183 columns as the first subset. The dataset is transposed for easier understanding and manipulation. The file format is GCT , a tab-delimited file used for sharing gene expression data and metadata (details for each sample) for samples.\n",
    "\n",
    "### Link:\n",
    "### https://www.kaggle.com/abhiparashar/cancer-prediction?select=PAAD.gct\n",
    "\n",
    "### Load:"
   ]
  },
  {
   "cell_type": "code",
   "execution_count": null,
   "id": "c460ae78",
   "metadata": {},
   "outputs": [],
   "source": [
    "# - Read in data.table format:                    # Setting Participant ID as column Name -> skip = 3\n",
    "original_dataset <- fread(\"Data/PAAD.gct\", skip = 3, quote = \"\", header = TRUE, sep = \"\\t\")"
   ]
  },
  {
   "cell_type": "code",
   "execution_count": null,
   "id": "3ba825da",
   "metadata": {},
   "outputs": [],
   "source": [
    "# Dimensions of the dataset\n",
    "dimensions <- dim(original_dataset)\n",
    "message(\"The dimensions of the dataset are: \",\"Rows = \",dimensions[1] ,\" and Columns = \",dimensions[2])\n",
    "\n",
    "# Overview types of Data\n",
    "#str(original_dataset)\n",
    "\n",
    "# Patients IDs\n",
    "patients_IDs <- colnames(original_dataset)\n",
    "\n",
    "# Features\n",
    "rownames <- original_dataset[,1]\n",
    "\n",
    "# Attributes\n",
    "#attributes(original_dataset)\n",
    "\n",
    "head(original_dataset,5)"
   ]
  },
  {
   "cell_type": "markdown",
   "id": "20e3649d",
   "metadata": {},
   "source": [
    "### Separate the two data sets (meta data and expression data)"
   ]
  },
  {
   "cell_type": "code",
   "execution_count": null,
   "id": "7a9901fd",
   "metadata": {},
   "outputs": [],
   "source": [
    "Expression_data <- original_dataset[124:length(original_dataset$participant_id),]\n",
    "Patient_data <- original_dataset[1:123,]"
   ]
  },
  {
   "cell_type": "markdown",
   "id": "b9c02d4c",
   "metadata": {},
   "source": [
    "### Transpose the data sets"
   ]
  },
  {
   "cell_type": "code",
   "execution_count": null,
   "id": "4bd940a7",
   "metadata": {},
   "outputs": [],
   "source": [
    "transposefunction <- function(dataset){\n",
    "    rowname <- dataset$participant_id\n",
    "    colname <- 1:length(original_dataset[1,])\n",
    "    transposed_dataset <- transpose(dataset)\n",
    "    rownames(transposed_dataset) <- colname\n",
    "    colnames(transposed_dataset) <- rowname\n",
    "    transposed_dataset <- transposed_dataset[2:nrow(transposed_dataset),]\n",
    "    return(transposed_dataset)\n",
    "}\n",
    "\n",
    "t_expression_data <- transposefunction(Expression_data)\n",
    "t_patient_data <- transposefunction(Patient_data)\n",
    "\n",
    "dimensions <- dim(t_expression_data)\n",
    "message(\"The dimensions of the Expression dataset are: \",\"Rows = \",dimensions[1] ,\" and Columns = \",dimensions[2])\n",
    "dimensions <- dim(t_patient_data)\n",
    "message(\"The dimensions of the Patient dataset are: \",\"Rows = \",dimensions[1] ,\" and Columns = \",dimensions[2])"
   ]
  },
  {
   "cell_type": "markdown",
   "id": "b0220e48",
   "metadata": {},
   "source": [
    "### Missing Values"
   ]
  },
  {
   "cell_type": "code",
   "execution_count": null,
   "id": "9e97aceb",
   "metadata": {},
   "outputs": [],
   "source": [
    "# Transform the whole dataset into floats\n",
    "t_expression_data[] <- lapply(t_expression_data, function(x) {as.numeric(as.character(x))})\n",
    "dimensionsE <- dim(t_expression_data)\n",
    "\n",
    "# Expression Data Missing Values Analysis\n",
    "message(\"Patients subset:\")\n",
    "tablePatients <- table(is.na(t_patient_data))\n",
    "dimensionsP <- dim(t_patient_data)\n",
    "summary(is.na(t_patient_data[1:5,1:5]))\n",
    "\n",
    "# Expression Data Missing Values Analysis\n",
    "message(\"Expression subset:\")\n",
    "tableExpression <- table(is.na(t_expression_data))\n",
    "summary(is.na(t_expression_data[1:5,1:5]))\n",
    "\n",
    "\n",
    "\n",
    "message(\"There are \",tableExpression[2],\" missing values from \",dimensionsE[1]*dimensionsE[2],\" total values in the expression dataset.\")\n",
    "message(\"There are \",tablePatients[2],\" missing values from \",dimensionsP[1]*dimensionsP[2],\" total values in the patients dataset.\")"
   ]
  },
  {
   "cell_type": "markdown",
   "id": "ebe2f0a5",
   "metadata": {},
   "source": [
    "### Visualize the 2 pre-processed subsets:"
   ]
  },
  {
   "cell_type": "code",
   "execution_count": null,
   "id": "434d0e9c",
   "metadata": {},
   "outputs": [],
   "source": [
    "head(t_patient_data,5)"
   ]
  },
  {
   "cell_type": "code",
   "execution_count": null,
   "id": "f0e6d8d6",
   "metadata": {
    "scrolled": true
   },
   "outputs": [],
   "source": [
    "head(t_expression_data[1:5,1:50])"
   ]
  },
  {
   "cell_type": "markdown",
   "id": "1f6186e4",
   "metadata": {},
   "source": [
    "### Gene expression EDA \n",
    "\n",
    "To check the gene expression data for obvious data error, we plot the histograms for the minima and maximas for each gene. From these plots we see that the expression values are within biologically reasonable ranges."
   ]
  },
  {
   "cell_type": "code",
   "execution_count": null,
   "id": "51913beb",
   "metadata": {
    "scrolled": false
   },
   "outputs": [],
   "source": [
    "expression_max <- sapply(t_expression_data, max, na.rm=T)\n",
    "qplot(expression_max, main=\"Maximum gene expression values\") + theme(panel.grid.major = element_blank(), panel.grid.minor = element_blank(),\n",
    "        panel.background = element_blank(), axis.line = element_line(colour = \"black\"))\n",
    "\n",
    "expression_mean <- sapply(t_expression_data, mean, na.rm=T)\n",
    "qplot(expression_mean, main=\"Mean gene expression values\")+ theme(panel.grid.major = element_blank(), panel.grid.minor = element_blank(),\n",
    "        panel.background = element_blank(), axis.line = element_line(colour = \"black\"))\n",
    "\n",
    "expression_min <- sapply(t_expression_data, min, na.rm=T)\n",
    "qplot(expression_min, main=\"Minimum gene expression values\") + theme(panel.grid.major = element_blank(), panel.grid.minor = element_blank(),\n",
    "        panel.background = element_blank(), axis.line = element_line(colour = \"black\"))\n",
    "\n",
    "meanE <- mean(expression_min)\n",
    "sprintf(\"Mean value found: %f \",meanE)"
   ]
  },
  {
   "cell_type": "markdown",
   "id": "8dadb1de",
   "metadata": {},
   "source": [
    "#### Interpretation of Histograms:\n",
    "In the hisgorams we see that there are no obvious outliers. The \"Maximum gene expression value\" is approximately normaly distributed, the \"Mean gene expression value\" is slightly left skewed and the \"Minimum gene expression value\" seems to be binomial distributed. To further check for check for outliers we will conduct a Grubbs test.\n"
   ]
  },
  {
   "cell_type": "markdown",
   "id": "34d60691",
   "metadata": {},
   "source": [
    "### Grubbs Test: Check for outliers and Histograms visualization.\n",
    "If the p-value is less than the chosen significance threshold (generally α = 0.05) then the null hypothesis is rejected and we will conclude that the lowest/highest value is an outlier.\n"
   ]
  },
  {
   "cell_type": "code",
   "execution_count": null,
   "id": "71137dfe",
   "metadata": {
    "scrolled": true
   },
   "outputs": [],
   "source": [
    "outlier_fun <- function(df){\n",
    "  for (columnindex in 1:ncol(df)){\n",
    "      hist(data.matrix(df[,..columnindex]))\n",
    "      print(grubbs.test(data.matrix(df[,..columnindex])))\n",
    "  }\n",
    "}\n",
    "\n",
    "#outlier_fun(t_expression_data)"
   ]
  },
  {
   "cell_type": "markdown",
   "id": "d5a2b872",
   "metadata": {
    "collapsed": true
   },
   "source": [
    "The histograms provided by the Grubbs Test identifies no outliers outside a plausible range, therefore we leave them in the dataset. As there are ~20000 diagrams we decided to not include them in our output file as it would drastically increase the size of our notebook. Yet we have the code to show all the diagrams included as a comment in the above cell. "
   ]
  },
  {
   "cell_type": "markdown",
   "id": "75d488b8",
   "metadata": {},
   "source": [
    "## Patient meta data histograms "
   ]
  },
  {
   "cell_type": "markdown",
   "id": "d46850e6",
   "metadata": {},
   "source": [
    "### Numeric columns\n",
    "\n",
    "We investigate and clean up the numeric data part of the patient data"
   ]
  },
  {
   "cell_type": "code",
   "execution_count": null,
   "id": "8eb906d6",
   "metadata": {},
   "outputs": [],
   "source": [
    "t_patient_data <- t_patient_data %>%\n",
    "    mutate_all(type.convert) %>%\n",
    "    mutate_if(is.factor, as.character)\n",
    "\n",
    "# only numeric values\n",
    "df_patient_num <-  t_patient_data %>% select_if(is.numeric)\n",
    "\n",
    "sprintf(\"Initially: %d numeric columns\",ncol(df_patient_num))\n",
    "\n",
    "# columns without any variance\n",
    "which(apply(df_patient_num,2,sd)==0)\n",
    "\n",
    "# remove dcc columns because they are all the same and refer to the upload of the dataset?\n",
    "\n",
    "df_patient_num <- df_patient_num %>% select(-day_of_dcc_upload, -month_of_dcc_upload, -year_of_dcc_upload)\n",
    "\n",
    "\n",
    "# days_to_index,days_to_initial_pathologic_diagnosis, number_of_lymphnodes_positive_by_ihc  is 0 or NA\n",
    "df_patient_num <- df_patient_num %>% select(-days_to_index, -days_to_initial_pathologic_diagnosis, -number_of_lymphnodes_positive_by_ihc)\n",
    "\n",
    "\n",
    "#system_version is 6 or 7, for our analysis not relevant\n",
    "df_patient_num <- df_patient_num %>% select(-system_version)\n",
    "\n",
    "sprintf(\"Final: %d numeric columns\",ncol(df_patient_num))\n",
    "#df_patient_num$system_version\n"
   ]
  },
  {
   "cell_type": "code",
   "execution_count": null,
   "id": "7d8d347f",
   "metadata": {},
   "outputs": [],
   "source": [
    "head(df_patient_num)"
   ]
  },
  {
   "cell_type": "code",
   "execution_count": null,
   "id": "f2ceaed2",
   "metadata": {},
   "outputs": [],
   "source": [
    "ggplot(gather(df_patient_num[,1:9], cols, value), aes(x = value)) + \n",
    "       geom_histogram(binwidth = 1) + facet_wrap(.~cols, scales = \"free\") + theme(panel.grid.major = element_blank(), panel.grid.minor = element_blank(),\n",
    "        panel.background = element_blank(), axis.line = element_line(colour = \"black\")) "
   ]
  },
  {
   "cell_type": "markdown",
   "id": "bc63ff4f",
   "metadata": {},
   "source": [
    "In the figures above we can see that most patients have their initial pathalogical diagnosis between 60-70  years of age, which can be approximatly seen as noramly distributed (which makes sense as the sample age goes from ~40 to 90 years of age). The consumption of alcohol per day is clearly right skewed."
   ]
  },
  {
   "cell_type": "code",
   "execution_count": null,
   "id": "518960e2",
   "metadata": {},
   "outputs": [],
   "source": [
    "ggplot(gather(df_patient_num[,19:21], cols, value), aes(x = value)) + \n",
    "       geom_histogram(binwidth = 1) + facet_wrap(.~cols, scales = \"free\") + theme(panel.grid.major = element_blank(), panel.grid.minor = element_blank(),\n",
    "        panel.background = element_blank(), axis.line = element_line(colour = \"black\"))"
   ]
  },
  {
   "cell_type": "markdown",
   "id": "6ab659c9",
   "metadata": {},
   "source": [
    "In these histograms we can see once again that \"year_of_completion\" is approximately noramly distributed, Year of initial pathological diagnosis is clearly left skewed (which makes sense, as normaly older people have an initial pathological diagnosis and therefore in our sample it should be in a later year). For the \"year_of_tobacco_smoking_onset\" we can't see a clear distribution. WE can tell that there are three peaks in the histogram. Those peaks were in ~1960 (which also was the highest peak, which can be explained that smoking was viewed as healthy in those times), ~1969 was another peak but quiet a bit smaller than the first peak. And the last peak was in approximately 1980. "
   ]
  },
  {
   "cell_type": "code",
   "execution_count": null,
   "id": "63a0ed6e",
   "metadata": {},
   "outputs": [],
   "source": [
    "ggplot(t_patient_data, \n",
    "       aes(y = vital_status, \n",
    "           x = age_at_initial_pathologic_diagnosis)) +\n",
    "  geom_point() + scale_x_discrete(breaks=seq(35,90,10)) + \n",
    "  theme(panel.grid.major = element_blank(), \n",
    "                       panel.grid.minor = element_blank(),\n",
    "                      panel.background = element_blank(), \n",
    "                      axis.line = element_line(colour = \"black\"))+ \n",
    "  xlab(\"Age\") + ylab(\"Vital Status\") + labs(title = \"Vital Status by Age\")\n"
   ]
  },
  {
   "cell_type": "markdown",
   "id": "ffca0726",
   "metadata": {},
   "source": [
    "In the above depicted figure we see that there is no obvious difference in age between being alive or dead. The above plot provides evidence that in fact there is no obvious difference in being dead or alive by age. More specifically, we do not observe any strong dependency on age, but this question is futher investigated in the following section."
   ]
  },
  {
   "cell_type": "markdown",
   "id": "7eff13f5",
   "metadata": {},
   "source": [
    "\n",
    "\n",
    "## \n",
    "## Correlations - Pearson - Patients Data"
   ]
  },
  {
   "cell_type": "code",
   "execution_count": null,
   "id": "9dee1f31",
   "metadata": {},
   "outputs": [],
   "source": [
    "corrPatient <- rcorr(as.matrix(df_patient_num))\n",
    "\n",
    "corrPatient_plot <- cor(as.matrix(df_patient_num), use=\"pairwise.complete.obs\")\n",
    "\n",
    "corrPatient_plot[is.na(corrPatient_plot)] <- 0\n",
    "\n",
    "head(corrPatient,5) # NA Values transformed to 0. For plotting purposes."
   ]
  },
  {
   "cell_type": "code",
   "execution_count": null,
   "id": "162c3d63",
   "metadata": {},
   "outputs": [],
   "source": []
  },
  {
   "cell_type": "code",
   "execution_count": null,
   "id": "1cf904ac",
   "metadata": {},
   "outputs": [],
   "source": [
    "which(apply(df_patient_num,2,sd)==0)"
   ]
  },
  {
   "cell_type": "code",
   "execution_count": null,
   "id": "c312df0e",
   "metadata": {},
   "outputs": [],
   "source": [
    "dpn_na <- df_patient_num %>%  summarise_all(funs(sum(!is.na(.))))\n",
    "t(dpn_na)"
   ]
  },
  {
   "cell_type": "code",
   "execution_count": null,
   "id": "7192835a",
   "metadata": {},
   "outputs": [],
   "source": [
    "#complete.cases(dfm)\n",
    "#dfm"
   ]
  },
  {
   "cell_type": "code",
   "execution_count": null,
   "id": "89b65d04",
   "metadata": {},
   "outputs": [],
   "source": [
    "# This function returns a Table with Rownames, Colnames, Correlation Coefficient, p-value\n",
    "flattenCorrMatrix <- function(cormat, pmat) {\n",
    "  ut <- upper.tri(cormat)\n",
    "  data.frame(\n",
    "    row = rownames(cormat)[row(cormat)[ut]],\n",
    "    column = rownames(cormat)[col(cormat)[ut]],\n",
    "    cor  =(cormat)[ut],\n",
    "    p = pmat[ut]\n",
    "    )\n",
    "}"
   ]
  },
  {
   "cell_type": "markdown",
   "id": "9595d327",
   "metadata": {},
   "source": [
    "### Table of correlations"
   ]
  },
  {
   "cell_type": "code",
   "execution_count": null,
   "id": "d8bdbcce",
   "metadata": {},
   "outputs": [],
   "source": [
    "# Visualize Correlation - Table\n",
    "\n",
    "dffc <- flattenCorrMatrix(corrPatient$r, corrPatient$P)\n",
    "dffc"
   ]
  },
  {
   "cell_type": "markdown",
   "id": "f591523b",
   "metadata": {},
   "source": [
    "### Plot"
   ]
  },
  {
   "cell_type": "code",
   "execution_count": null,
   "id": "ec6ef70c",
   "metadata": {},
   "outputs": [],
   "source": [
    "options(jupyter.plot_scale=1, repr.plot.res = 200)\n",
    "#options(repr.plot.width = 30, repr.plot.height = 30.75, repr.plot.res = 100)\n",
    "\n",
    "corrplot(corrPatient_plot, type = \"lower\", order = \"hclust\", \n",
    "         tl.col = \"black\", tl.srt = 50, tl.cex=0.65)"
   ]
  },
  {
   "cell_type": "markdown",
   "id": "ace201aa",
   "metadata": {},
   "source": [
    "### Detailed correlation analysis\n",
    "For a more detailed anaylsis we seperate the dataset into those patient who are still alive and those who are deceased.\n",
    "Some variables make only sense for these subgroups such as days_to_last_followup and days_to_death which are mutually exclusive\n",
    "\n",
    "We further remove the variables days_to_pancreatitis_onset and days_to_diabetes_onset because there are too many NaN in these variables\n"
   ]
  },
  {
   "cell_type": "code",
   "execution_count": null,
   "id": "dd613e3d",
   "metadata": {},
   "outputs": [],
   "source": [
    "df_patient_relevant <- t_patient_data %>% select(-day_of_dcc_upload, -month_of_dcc_upload, -year_of_dcc_upload, -days_to_index, -days_to_initial_pathologic_diagnosis, -number_of_lymphnodes_positive_by_ihc,-system_version)\n",
    "\n",
    "\n",
    "# not enough non NaN in these two variables\n",
    "df_patient_relevant <- df_patient_relevant %>% select(-days_to_diabetes_onset, -days_to_pancreatitis_onset)\n",
    "\n",
    "df_patient_dead <-  df_patient_relevant %>% filter(vital_status == 'dead') %>% select_if(is.numeric) %>% select(-days_to_last_followup)\n",
    "head(df_patient_dead)\n",
    "\n",
    "df_patient_alive <-  df_patient_relevant %>% filter(vital_status == 'alive') %>% select_if(is.numeric) %>% select(-days_to_death)\n",
    "head(df_patient_alive)"
   ]
  },
  {
   "cell_type": "code",
   "execution_count": null,
   "id": "51a0bb63",
   "metadata": {},
   "outputs": [],
   "source": [
    "cor_dead <- cor.mtest(df_patient_dead, conf.level = 0.95)\n",
    "M <- cor(df_patient_dead)\n",
    "corrplot(M, type = \"lower\", \n",
    "         tl.col = \"black\", tl.srt = 50, tl.cex=0.65, p.mat = cor_dead$p, sig.level = .05)\n"
   ]
  },
  {
   "cell_type": "code",
   "execution_count": null,
   "id": "a83d9827",
   "metadata": {},
   "outputs": [],
   "source": [
    "cor_alive <- cor.mtest(df_patient_alive, conf.level = 0.95)\n",
    "M <- cor(df_patient_alive)\n",
    "corrplot(M, type = \"lower\", \n",
    "         tl.col = \"black\", tl.srt = 50, tl.cex=0.65, p.mat = cor_alive$p, sig.level = .05)"
   ]
  },
  {
   "cell_type": "markdown",
   "id": "6706fcfa",
   "metadata": {},
   "source": [
    "After controlling for non significant correlation, the only significant relations seems to be negative for age_at_initial_pathologic_diagnosis and days_to_birth. (days_to_birth is a negative number, which makes sense)\n",
    "There is a positive correlation between days to pancreatitis and diabetes. Pancreatitis is a known complication of diabetes and it therefore makes sense that there's a correlation. \n",
    "Number of pack years (years of smoking * packs per day) is correlated negatively with pathologic onset. Therefore, the more cigarettes the patient smokes the earlier the patient is diagnosed with cancer.\n",
    "Alcohol consumption (amount per day) is negatively correlated to days to death. Therefore, the higher the consumption of alcohol, the earlier the patient dies after diagnosis."
   ]
  },
  {
   "cell_type": "markdown",
   "id": "d5bf23cd",
   "metadata": {},
   "source": [
    "## Correlation - Pearson - Expression Dataset"
   ]
  },
  {
   "cell_type": "code",
   "execution_count": null,
   "id": "15dea864",
   "metadata": {},
   "outputs": [],
   "source": [
    "# Perform PEARSON correlation\n",
    "corrExpression <- rcorr(as.matrix(t_expression_data[1:100,1:100]))\n",
    "\n",
    "# Transform Data for easy plotting\n",
    "corrExpression[is.na(corrExpression)] <- 0\n",
    "head(corrExpression,5)\n"
   ]
  },
  {
   "cell_type": "markdown",
   "id": "79ad8c02",
   "metadata": {},
   "source": [
    "### Table of correlations"
   ]
  },
  {
   "cell_type": "code",
   "execution_count": null,
   "id": "590746e0",
   "metadata": {},
   "outputs": [],
   "source": [
    "# Table of correlations with p-values\n",
    "dffcE <- flattenCorrMatrix(corrExpression$r, corrExpression$P)\n",
    "dffcE[order(dffcE$p, -dffcE$cor),]"
   ]
  },
  {
   "cell_type": "markdown",
   "id": "ebff9160",
   "metadata": {},
   "source": [
    "### Plot"
   ]
  },
  {
   "cell_type": "code",
   "execution_count": null,
   "id": "63203856",
   "metadata": {},
   "outputs": [],
   "source": [
    "options(jupyter.plot_scale=1, repr.plot.res = 200)\n",
    "corrplot(corrExpression$r, type = \"lower\", order = \"hclust\", \n",
    "         tl.col = \"black\", tl.srt = 50, tl.cex=0.65)"
   ]
  },
  {
   "cell_type": "markdown",
   "id": "3b7b38e0",
   "metadata": {},
   "source": [
    "A lot of genes, that are highly correlated, are in the same pathway."
   ]
  },
  {
   "cell_type": "markdown",
   "id": "af5e8813",
   "metadata": {},
   "source": [
    "### --------------------------------------------------------------------------------------------------------------------------------------------------------------"
   ]
  },
  {
   "cell_type": "markdown",
   "id": "a326d712",
   "metadata": {},
   "source": [
    "## Gene expression difference between dead and alive patients\n",
    "\n",
    "We look if there is any difference in the average gene expressions between dead and alive patients for all genes. Interestingly a gene which is more expressed in the dead group is PSCA (Prostate stem cell antigen) which is known to be associated with cancer in the pancreas. "
   ]
  },
  {
   "cell_type": "code",
   "execution_count": null,
   "id": "a9c25787",
   "metadata": {},
   "outputs": [],
   "source": [
    "idx_dead <- which( t_patient_data$vital_status %in% 'dead')\n",
    "dead_gene <- t_expression_data[idx_dead]\n",
    "idx_alive <- which(t_patient_data$vital_status %in% 'alive')\n",
    "alive_gene <- t_expression_data[idx_alive,]\n",
    "\n",
    "alive_means <- colMeans(alive_gene,na.rm=TRUE)\n",
    "dead_means <- colMeans(dead_gene,na.rm=TRUE)\n",
    "diff_means <- dead_means - alive_means\n",
    "sort(diff_means, decreasing = TRUE)[1:10]\n"
   ]
  },
  {
   "cell_type": "markdown",
   "id": "c1ced8a9",
   "metadata": {},
   "source": [
    "Top 10 genes which are on average more expressed in the dead patients"
   ]
  },
  {
   "cell_type": "code",
   "execution_count": null,
   "id": "e2c2ddd4",
   "metadata": {},
   "outputs": [],
   "source": [
    "t(sort(diff_means, decreasing = TRUE)[1:10])"
   ]
  },
  {
   "cell_type": "markdown",
   "id": "0567baed",
   "metadata": {},
   "source": [
    "Top 10 genes which are on average less expressed in the dead patients"
   ]
  },
  {
   "cell_type": "code",
   "execution_count": null,
   "id": "e4ffa925",
   "metadata": {},
   "outputs": [],
   "source": [
    "t(sort(diff_means, decreasing = FALSE)[1:10])"
   ]
  },
  {
   "cell_type": "markdown",
   "id": "3558c4a4",
   "metadata": {},
   "source": [
    "## Clustering Analysis"
   ]
  },
  {
   "cell_type": "code",
   "execution_count": null,
   "id": "3df211e7",
   "metadata": {},
   "outputs": [],
   "source": [
    "em <- as.matrix(t_expression_data)\n",
    "tem <- t(em)\n",
    "colnames(tem) <- paste0(\"Cell\", 1:ncol(tem))\n",
    "tem"
   ]
  },
  {
   "cell_type": "code",
   "execution_count": null,
   "id": "8702e4fc",
   "metadata": {},
   "outputs": [],
   "source": [
    "# Create seurat container and keep all genes that are expressed in at least 3 patients\n",
    "rna <- CreateSeuratObject(counts = tem, assay = \"RNA\", min.cells=3)\n",
    "rna"
   ]
  },
  {
   "cell_type": "code",
   "execution_count": null,
   "id": "8e6b5ee0",
   "metadata": {},
   "outputs": [],
   "source": [
    "# visualize gene and molecule counts\n",
    "VlnPlot(object = rna, features = c(\"nFeature_RNA\", \"nCount_RNA\"), ncol = 2)"
   ]
  },
  {
   "cell_type": "markdown",
   "id": "bcba904b",
   "metadata": {},
   "source": [
    "Visualizing gene and molecule counts is important. In particular, it could be used to define a cut off value. This is nicely depicted in the n_feature_RNA and n_count_RNA since one could implement a cut_off value around 14'080 in the former and around 121'500 in the latter. "
   ]
  },
  {
   "cell_type": "code",
   "execution_count": null,
   "id": "3302f08b",
   "metadata": {},
   "outputs": [],
   "source": [
    "# data is already normalized\n",
    "#pbmc <- NormalizeData(object = rna, normalization.method = \"LogNormalize\", scale.factor = 10000)\n",
    "#pbmc"
   ]
  },
  {
   "cell_type": "markdown",
   "id": "388a6a86",
   "metadata": {},
   "source": [
    "Normalizing the data is often necessary for removing technological factors, such as human imprecision, that could create differences. Indeed, we would like to keep only the biological differences. "
   ]
  },
  {
   "cell_type": "markdown",
   "id": "28ca1431",
   "metadata": {},
   "source": [
    "We detect variable genes (calculates the average expression and dispersion for each gene, places these genes into bins, and then calculates a z-score for dispersion within each bin) and we control for the relationship between variability and average expression. We focus on these genes during downstream analysis."
   ]
  },
  {
   "cell_type": "code",
   "execution_count": null,
   "id": "9e9a3b0b",
   "metadata": {},
   "outputs": [],
   "source": [
    "pbmc <- FindVariableFeatures(object = rna, mean.function = ExpMean, dispersion.function = LogVMR, x.low.cutoff = 0.0125, x.high.cutoff = 3, y.cutoff = 0.5, nfeatures = 2000)\n",
    "# see the most variable genes\n",
    "head(x = HVFInfo(object = pbmc))"
   ]
  },
  {
   "cell_type": "code",
   "execution_count": null,
   "id": "2308c49f",
   "metadata": {},
   "outputs": [],
   "source": [
    "#?FindVariableFeatures"
   ]
  },
  {
   "cell_type": "markdown",
   "id": "631defb7",
   "metadata": {},
   "source": [
    "There are no mitochondrial genes present in the data set. They were removed during the study from which the dataset stems from.\n",
    "Mitochondrial genes are often used to detect damaged cells, which should be excluded during analysis. "
   ]
  },
  {
   "cell_type": "code",
   "execution_count": null,
   "id": "b5f15ae5",
   "metadata": {},
   "outputs": [],
   "source": [
    "mito.genes <- grep(pattern = \"^MT-\", x = rownames(pbmc@assays[[\"RNA\"]]), value = TRUE)\n",
    "mito.genes"
   ]
  },
  {
   "cell_type": "code",
   "execution_count": null,
   "id": "d519e13a",
   "metadata": {},
   "outputs": [],
   "source": [
    " #grep(pattern = \"^MT-\", x = rownames(tem), value = TRUE)"
   ]
  },
  {
   "cell_type": "markdown",
   "id": "5eba936f",
   "metadata": {},
   "source": [
    "We regress out cell-cell variation in gene expression driven by batch, cell alignment rate and \n",
    "the number of detected molecules"
   ]
  },
  {
   "cell_type": "code",
   "execution_count": null,
   "id": "e444cade",
   "metadata": {},
   "outputs": [],
   "source": [
    "pbmc <- ScaleData(object = pbmc, vars.to.regress = c(\"nCount_RNA\", \"nFeature_RNA\"))"
   ]
  },
  {
   "cell_type": "markdown",
   "id": "14d92a8c",
   "metadata": {},
   "source": [
    "## Principal Component Analysis"
   ]
  },
  {
   "cell_type": "code",
   "execution_count": null,
   "id": "7ea4b6d0",
   "metadata": {},
   "outputs": [],
   "source": [
    "pbmc <- RunPCA(object = pbmc,  npcs = 50, verbose = FALSE)\n",
    "DimPlot(object = pbmc, reduction = \"pca\")"
   ]
  },
  {
   "cell_type": "markdown",
   "id": "cc362ab8",
   "metadata": {
    "collapsed": true
   },
   "source": [
    "There is only one accumulation of data points present, but they still may be sorted by variables from the meta data (live/dead, position of the tumor, staging of the tumor etc.)"
   ]
  },
  {
   "cell_type": "markdown",
   "id": "d5cf306a",
   "metadata": {},
   "source": [
    "## Graph based clustering"
   ]
  },
  {
   "cell_type": "code",
   "execution_count": null,
   "id": "4d09604d",
   "metadata": {},
   "outputs": [],
   "source": [
    "pbmc <- FindNeighbors(pbmc, reduction = \"pca\", dims = 1:50)\n",
    "pbmc <- FindClusters(pbmc, resolution = 0.65, algorithm = 1)"
   ]
  },
  {
   "cell_type": "markdown",
   "id": "97625599",
   "metadata": {
    "collapsed": true
   },
   "source": [
    "##### Using the resolution 0.65, two clusters were found. Hence, we can compare gene expression between them"
   ]
  },
  {
   "cell_type": "code",
   "execution_count": null,
   "id": "746c6cc9",
   "metadata": {
    "scrolled": true
   },
   "outputs": [],
   "source": [
    "pbmc <- RunUMAP(pbmc, reduction = \"pca\", dims = 1:20)"
   ]
  },
  {
   "cell_type": "markdown",
   "id": "1e9a3716",
   "metadata": {},
   "source": [
    "### Clusters visualization"
   ]
  },
  {
   "cell_type": "code",
   "execution_count": null,
   "id": "efff1c7b",
   "metadata": {},
   "outputs": [],
   "source": [
    "#DimPlot(pbmc, reduction = \"umap\", split.by = \"seurat_clusters\")\n",
    "DimPlot(pbmc, reduction = \"umap\")"
   ]
  },
  {
   "cell_type": "markdown",
   "id": "36f7734d",
   "metadata": {},
   "source": [
    "In this UMAP we see that there have been 2 clusters generated. Unfortunately these two clusters seem to not show any pattern at all. This might be due to data prepartion by the creator of the dataset."
   ]
  },
  {
   "cell_type": "markdown",
   "id": "949bc448",
   "metadata": {},
   "source": [
    "## Differential Expression between the clusters\n",
    "Differential expression identifies positive and negative markers of a single cluster"
   ]
  },
  {
   "cell_type": "markdown",
   "id": "19b004e5",
   "metadata": {},
   "source": [
    "### Markers of cluster 0"
   ]
  },
  {
   "cell_type": "code",
   "execution_count": null,
   "id": "a38c6d18",
   "metadata": {},
   "outputs": [],
   "source": [
    "# find all markers of cluster 0\n",
    "cluster1.markers <- FindMarkers(object = pbmc, ident.1 = 0, min.pct = 0.25, logfc.threshold=0.25)\n",
    "print(x = head(x = cluster1.markers, n = 5))"
   ]
  },
  {
   "cell_type": "code",
   "execution_count": null,
   "id": "9308de1e",
   "metadata": {
    "scrolled": true
   },
   "outputs": [],
   "source": [
    "#cluster1.markers[order(-cluster1.markers$avg_logFC),]"
   ]
  },
  {
   "cell_type": "markdown",
   "id": "5799c8f4",
   "metadata": {},
   "source": [
    "The genes \"TJP3\", \"GRTP1\", \"MICALL2\", \"TRPM4\" and \"C2orf29\" show a higher expression in cluster 0 which can also be seen in the violin plots below."
   ]
  },
  {
   "cell_type": "code",
   "execution_count": null,
   "id": "bf95028f",
   "metadata": {},
   "outputs": [],
   "source": [
    "VlnPlot(object = pbmc, features =c(\"TJP3\", \"GRTP1\", \"MICALL2\", \"TRPM4\", \"C2orf29\"))"
   ]
  },
  {
   "cell_type": "markdown",
   "id": "eb94007f",
   "metadata": {},
   "source": [
    "TJP3 is a protein in tight junctions, which are often found in epithelial cells. \\\n",
    "GRTP1 is an GTPase-activating protein for Rab family proteins. \\\n",
    "MICALL2 is important for actin cytoskeleton reorganization, which can enable cancer metastasis. \\\n",
    "TRPM4 is a calcium-activated non selective (CAN) cation channel that mediates membrane depolarization, which is known to promote cell proliferation. \\\n",
    "C2orf29 is important for mRNA decay and therefore gene expression regulation. Patients in this cluster are likely to have a larger protein decay. \\\n",
    "\\\n",
    "Furthermore we see in the violin plots of marker 0, that most of the time the two identities of the genes are rather similar in size and variation. We can also observe that the identity 1 is likely to deviate downards when compared to identity 1 in all of the violin plots. Only the violin plot of gene \"MICALL2\" seems to be different from the rest (although also being rather similar to identity 1 in variation but not so much in size. Also in this violin polt there seems to be an upward deviation."
   ]
  },
  {
   "cell_type": "markdown",
   "id": "0d6c514a",
   "metadata": {},
   "source": [
    "### Markers of cluster 1"
   ]
  },
  {
   "cell_type": "code",
   "execution_count": null,
   "id": "86f7b833",
   "metadata": {},
   "outputs": [],
   "source": [
    "# find all markers of cluster 1\n",
    "cluster2.markers <- FindMarkers(object = pbmc, ident.1 = 1, min.pct = 0.25, logfc.threshold=0.25)\n",
    "print(x = head(x = cluster2.markers, n = 5))"
   ]
  },
  {
   "cell_type": "code",
   "execution_count": null,
   "id": "d62c2538",
   "metadata": {},
   "outputs": [],
   "source": [
    "subset <- cluster2.markers[ which(cluster2.markers$p_val_adj < 0.05),]\n",
    "subset <- subset[order( -subset$avg_log2FC),]\n",
    "head(subset, n = 5)"
   ]
  },
  {
   "cell_type": "markdown",
   "id": "0acb7bb3",
   "metadata": {},
   "source": [
    "The genes \"ADCY1\", \"ATP8A2\", \"P2RX5\", \"PEG3\" and \"GPX3\" show a higher expression in cluster 1 which can also be seen in the violin plots below."
   ]
  },
  {
   "cell_type": "code",
   "execution_count": null,
   "id": "e4bac870",
   "metadata": {},
   "outputs": [],
   "source": [
    "VlnPlot(object = pbmc, features =c(\"ADCY1\", \"ATP8A2\", \"P2RX5\", \"PEG3\", \"GPX3\"))"
   ]
  },
  {
   "cell_type": "markdown",
   "id": "d3fa17a6",
   "metadata": {
    "collapsed": true
   },
   "source": [
    "ADCY1 is a gene that is often found in chemotherapy resistance. \\\n",
    "Glutathionperoxidase (GPX3) is important as antioxidant. It has an ambivalent role in cancer since it is a tumor suppressor and pro-survival protein. \\\n",
    "In this set of violin plots of cluster 1 we see basically the same as in cluster 0 with the difference that identity 1 seems to deviated upwards instead of downwards (as seen in cluster 0). Furthermore we see again that the two identities of genes are rather similar in size and variation."
   ]
  },
  {
   "cell_type": "markdown",
   "id": "ea6f67a6",
   "metadata": {},
   "source": [
    "## Color by metadata"
   ]
  },
  {
   "cell_type": "markdown",
   "id": "0d81c70d",
   "metadata": {},
   "source": [
    "### histological_type"
   ]
  },
  {
   "cell_type": "code",
   "execution_count": null,
   "id": "e5580a5b",
   "metadata": {},
   "outputs": [],
   "source": [
    "hist_clusters <- as.factor(t_patient_data$histological_type)\n",
    "pbmc <- AddMetaData(pbmc, hist_clusters, col.name=\"hist_clusters\")"
   ]
  },
  {
   "cell_type": "code",
   "execution_count": null,
   "id": "189fbdcc",
   "metadata": {},
   "outputs": [],
   "source": [
    "DimPlot(pbmc, reduction = \"umap\", group.by = \"hist_clusters\")"
   ]
  },
  {
   "cell_type": "markdown",
   "id": "d077166b",
   "metadata": {},
   "source": [
    "In this UMAP we see that pancrease-adenocarcinoma ductal type is most present. This means that most of the patients have this type of pancreas-adenocarcinoma. Unfortunately we cannot see any other patterns in the UMAP and can therefore make no further interpretations."
   ]
  },
  {
   "cell_type": "markdown",
   "id": "3665e3ff",
   "metadata": {},
   "source": [
    "### pathologic_stage"
   ]
  },
  {
   "cell_type": "code",
   "execution_count": null,
   "id": "28453e6b",
   "metadata": {
    "scrolled": false
   },
   "outputs": [],
   "source": [
    "pathologic_stage_clusters <- as.factor(t_patient_data$pathologic_stage)\n",
    "pbmc <- AddMetaData(pbmc, pathologic_stage_clusters, col.name=\"pathologic_stage\")\n",
    "DimPlot(pbmc, reduction = \"umap\", group.by = \"pathologic_stage\")"
   ]
  },
  {
   "cell_type": "markdown",
   "id": "3384ab88",
   "metadata": {},
   "source": [
    "In this pathologic state UMAP we can again only see one pattern which is that the \"stage iib\" is most present. Other than that we can once again not recognize any other patterns in the UMAP."
   ]
  },
  {
   "cell_type": "markdown",
   "id": "9fec0e9f",
   "metadata": {},
   "source": [
    "### tissue_source_site"
   ]
  },
  {
   "cell_type": "code",
   "execution_count": null,
   "id": "e8a8cf89",
   "metadata": {},
   "outputs": [],
   "source": [
    "tissue_source_site_clusters <- as.factor(t_patient_data$tissue_source_site)\n",
    "pbmc <- AddMetaData(pbmc, tissue_source_site_clusters, col.name=\"tissue_source_site\")\n",
    "DimPlot(pbmc, reduction = \"umap\", group.by = \"tissue_source_site\")"
   ]
  },
  {
   "cell_type": "markdown",
   "id": "4a3f6fcc",
   "metadata": {},
   "source": [
    "In the tissue_source_site UMAP we cannot recognize any patterns at all. The distribution of all tissue_source_site seems to be completely random."
   ]
  },
  {
   "cell_type": "markdown",
   "id": "2c0a7c5d",
   "metadata": {},
   "source": [
    "### Vital Status "
   ]
  },
  {
   "cell_type": "markdown",
   "id": "e19ff6cd",
   "metadata": {},
   "source": [
    "We now would like to figure out if there are pattern recognizable in the UMAPS if it is colored by vital status. Yet, the simply binary variable vital_status does not take into account the lenght since which a person alive has been suffering from cancer. In other words, her/his cancer could have just been diagnozed. Hence, we differenriated between indivuals that passed away, indiviudals that are alive with their last follow up check up having occured at least 400 days ago (alive) and individuals alive but with a last follow up check up having occured less than 400 days ago (new alive). We tested for different threhold, with similar results in each specification."
   ]
  },
  {
   "cell_type": "code",
   "execution_count": null,
   "id": "0ad97127",
   "metadata": {},
   "outputs": [],
   "source": [
    "t_patient_data <- t_patient_data %>%\n",
    "  mutate(status_updated = case_when(\n",
    "    t_patient_data$vital_status == \"dead\"~\"dead\",\n",
    "    t_patient_data$vital_status == \"alive\" & t_patient_data$days_to_last_followup <= 400 ~ \"alive new\", \n",
    "    t_patient_data$vital_status == \"alive\" & t_patient_data$days_to_last_followup >= 400~ \"alive\"))\n",
    "\n",
    "status <- as.factor(t_patient_data$status_updated)\n",
    "pbmc <- AddMetaData(pbmc, status, col.name=\"status_updated\")\n",
    "DimPlot(pbmc, reduction = \"umap\", group.by = \"status_updated\")"
   ]
  },
  {
   "cell_type": "markdown",
   "id": "1eeea264",
   "metadata": {},
   "source": [
    "Overall, there is no pattern recognizable in the UMAPs colored by tissue_source_site, pathologic_stage, hist_clusters and vital_status. This may be due to the fact that we only have average expression per patient and any cell specific differences are averaged out. Often in single cell UMAP plots, bigger differences can be observed."
   ]
  },
  {
   "cell_type": "markdown",
   "id": "46b8817e",
   "metadata": {},
   "source": [
    "## Conclusions\n",
    "\n",
    "### Gene Expression Correlations\n",
    "We did find some correlated genes in the expression data. We suspect they are correlated because they are part of the same pathway, e.g ABCA8, ABCA6 & ABCA9 are part of the Glucose transport pathway [2]\n",
    "\n",
    "\n",
    "### Patient Clustering based on Gene Expression\n",
    "The patients gene expression data was clustered using the Seurat R package. This package uses a graph-based clustering method where the gene expressions are reduced with PCA and then converted into a graph based on a K-nearest neighbour method. Then a community detection algorithm tries to partition the graph into clusters.\n",
    "\n",
    "We suspect that this method is appropriate for analyzing many cell samples. However in our dataset it appears that the gene expression of the cell samples from the patients have been averaged. This limits the validity and interpretability our our differential gene expression analysis to some extent.\n",
    "\n",
    "Nontheless, cluster analysis revelaled some genes which seem to be associated with cancer such as ADCY1, GPX3 and MICALL2.\n",
    "\n",
    "\n",
    "### Gene Expression Difference between dead and alive patients\n",
    "A large difference in the over-expression of the PSCA gene in dead patients was found. The PSCA gene is known to be associated with pancreatic cancer [3].\n",
    "\n"
   ]
  },
  {
   "cell_type": "markdown",
   "id": "e7da7f01",
   "metadata": {},
   "source": [
    "## References"
   ]
  },
  {
   "cell_type": "markdown",
   "id": "165a5dc8",
   "metadata": {},
   "source": [
    "#### 01 - Baek, B., Lee, H. Prediction of survival and recurrence in patients with pancreatic cancer by integrating multi-omics data. Sci Rep 10, 18951 (2020). https://doi.org/10.1038/s41598-020-76025-1\n",
    "\n",
    "#### 2 Transport of glucose and other sugars, bile salts and organic acids, metal ions and amine compounds https://pathcards.genecards.org/card/transport_of_glucose_and_other_sugars_bile_salts_and_organic_acids_metal_ions_and_amine_compounds\n",
    "\n",
    "#### 3 Reiter RE, Gu Z, Watabe T, et al. Prostate stem cell antigen: a cell surface marker overexpressed in prostate cancer. Proc Natl Acad Sci U S A. 1998;95(4):1735-1740. doi:10.1073/pnas.95.4.1735"
   ]
  }
 ],
 "metadata": {
  "kernelspec": {
   "display_name": "R",
   "language": "R",
   "name": "ir"
  },
  "language_info": {
   "codemirror_mode": "r",
   "file_extension": ".r",
   "mimetype": "text/x-r-source",
   "name": "R",
   "pygments_lexer": "r",
   "version": "4.0.4"
  },
  "metadata": {
   "interpreter": {
    "hash": "876d19a715e85b8ef53a5ec98972dca0ebbcb13bdd85ab57f8336ebb1c3be716"
   }
  }
 },
 "nbformat": 4,
 "nbformat_minor": 5
}
